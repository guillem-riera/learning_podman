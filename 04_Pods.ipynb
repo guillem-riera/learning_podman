{
 "cells": [
  {
   "cell_type": "markdown",
   "metadata": {},
   "source": [
    "# Pods\n",
    "\n",
    "Podman has the hability to run containers in Pods, like in Kubernetes.\n",
    "\n",
    "Pod is a concept in which a group of one or more containers working together for a common purpose and sharing the same namespaces and cgroups (resource constraints).\n",
    "This way it is also possible to group containers's network space and volume mounts, making it easier for the containers to interact and work as if they were a single unit.\n"
   ]
  },
  {
   "cell_type": "markdown",
   "metadata": {},
   "source": [
    "## Running Pods\n",
    "\n",
    "To run containers in pods requires to plan a little bit, as the pod needs to be created up-front, specifying the volumes and ports that will be required.\n",
    "Afterwards the containers will be attached to this pod.\n",
    "\n",
    "We will run the following example to demonstrate how it works, start a simple http server in one pod, while in another we will refresh the index.html using a volume: 2 concerns (2 containers and 1 pod):\n",
    "\n",
    "1. Create a pod\n",
    "1. Create the web server container and attach it to the pod\n",
    "1. Create the sidecar container that will update the index.html\n",
    "\n"
   ]
  },
  {
   "cell_type": "markdown",
   "metadata": {},
   "source": [
    "### Create the Pod\n",
    "\n",
    "After creating the path for the volume mount we will:\n",
    "\n",
    "1. Specify the port binding (8080:80)\n",
    "1. Specify a volume mount to `/usr/local/apache2/htdocs` with the `z` parameter. `z` specifies that the volume mount should happen in each container (shared)."
   ]
  },
  {
   "cell_type": "code",
   "execution_count": 1,
   "metadata": {
    "vscode": {
     "languageId": "shellscript"
    }
   },
   "outputs": [
    {
     "name": "stdout",
     "output_type": "stream",
     "text": [
      "webserver-data\n"
     ]
    }
   ],
   "source": [
    "podman volume create webserver-data"
   ]
  },
  {
   "cell_type": "code",
   "execution_count": 2,
   "metadata": {
    "vscode": {
     "languageId": "shellscript"
    }
   },
   "outputs": [
    {
     "name": "stdout",
     "output_type": "stream",
     "text": [
      "efdacb6f77b229d9120510ea9c845d1f41f15c961e23c5af6fe28632795710b1\n"
     ]
    }
   ],
   "source": [
    "podman pod create -p 8080:80 --name dynamic-webserver --volume  webserver-data:/usr/local/apache2/htdocs:z"
   ]
  },
  {
   "cell_type": "code",
   "execution_count": 10,
   "metadata": {
    "vscode": {
     "languageId": "shellscript"
    }
   },
   "outputs": [
    {
     "name": "stdout",
     "output_type": "stream",
     "text": [
      "POD ID        NAME               STATUS      CREATED             INFRA ID      # OF CONTAINERS\n",
      "efdacb6f77b2  dynamic-webserver  Created     About a minute ago  8fe498633a11  1\n"
     ]
    }
   ],
   "source": [
    "podman pod ps"
   ]
  },
  {
   "cell_type": "markdown",
   "metadata": {},
   "source": [
    "### Inspecting the pod (right after creation)\n",
    "\n",
    "Although we just created a pod without explicitly attaching containers to it, there is already a running container in this pod: the `pause` container from the Kubernetes project.\n",
    "It is in charge of maintaining the namespaces and networks from the whole pod.\n",
    "\n",
    "Let's check this out:"
   ]
  },
  {
   "cell_type": "code",
   "execution_count": 11,
   "metadata": {
    "vscode": {
     "languageId": "shellscript"
    }
   },
   "outputs": [
    {
     "name": "stdout",
     "output_type": "stream",
     "text": [
      "CONTAINER ID  IMAGE                                    COMMAND     CREATED             STATUS          PORTS                                                                                                                       NAMES               POD ID        PODNAME\n",
      "5013a0794fd7  gcr.io/k8s-minikube/kicbase:v0.0.32                  4 hours ago         Up 4 hours ago  0.0.0.0:38965->22/tcp, 0.0.0.0:42903->2376/tcp, 0.0.0.0:32787->5000/tcp, 0.0.0.0:33043->8443/tcp, 0.0.0.0:42707->32443/tcp  minikube                          \n",
      "8fe498633a11  localhost/podman-pause:4.1.1-1655914710              About a minute ago  Created         0.0.0.0:8080->80/tcp                                                                                                        efdacb6f77b2-infra  efdacb6f77b2  dynamic-webserver\n"
     ]
    }
   ],
   "source": [
    "podman ps --pod --all"
   ]
  },
  {
   "cell_type": "code",
   "execution_count": 12,
   "metadata": {
    "vscode": {
     "languageId": "shellscript"
    }
   },
   "outputs": [
    {
     "name": "stdout",
     "output_type": "stream",
     "text": [
      "[{volume webserver-data /var/lib/containers/storage/volumes/webserver-data/_data /usr/local/apache2/htdocs local z [nosuid nodev rbind] true rprivate}]\n"
     ]
    }
   ],
   "source": [
    "podman inspect $(podman ps --all | awk '/pause/{ print $NF }' | grep infra) --format '{{.Mounts}}'"
   ]
  },
  {
   "cell_type": "code",
   "execution_count": 13,
   "metadata": {
    "vscode": {
     "languageId": "shellscript"
    }
   },
   "outputs": [
    {
     "name": "stdout",
     "output_type": "stream",
     "text": [
      "map[80/tcp:[{ 8080}]]\n"
     ]
    }
   ],
   "source": [
    "podman inspect $(podman ps --all | awk '/pause/{ print $NF }' | grep infra) --format '{{.HostConfig.PortBindings}}'"
   ]
  },
  {
   "cell_type": "markdown",
   "metadata": {},
   "source": [
    "### Attach the containers\n",
    "\n",
    "1. First we create the httpd container, which simply serves the index.html file from the htdocs folder\n",
    "1. Then we start a sidecar container that will update the index adding timestamps. This is a silly test whose purpose is to demonstrate the volume share.\n",
    "\n",
    "Note that we are not supplying ports nor volumes to the single containers, they inherit those from the pod."
   ]
  },
  {
   "cell_type": "code",
   "execution_count": 14,
   "metadata": {
    "vscode": {
     "languageId": "shellscript"
    }
   },
   "outputs": [
    {
     "name": "stdout",
     "output_type": "stream",
     "text": [
      "53f5d8f03a8d880f23f5da4319c565099802470d5a58bc904440942a2b8b26ea\n"
     ]
    }
   ],
   "source": [
    "podman run -d --name apache-httpd --pod dynamic-webserver httpd:2.4"
   ]
  },
  {
   "cell_type": "code",
   "execution_count": 15,
   "metadata": {
    "vscode": {
     "languageId": "shellscript"
    }
   },
   "outputs": [
    {
     "name": "stdout",
     "output_type": "stream",
     "text": [
      "<html><body><h1>It works!</h1></body></html>\n"
     ]
    }
   ],
   "source": [
    "curl -s localhost:8080"
   ]
  },
  {
   "cell_type": "code",
   "execution_count": 16,
   "metadata": {
    "vscode": {
     "languageId": "shellscript"
    }
   },
   "outputs": [
    {
     "name": "stdout",
     "output_type": "stream",
     "text": [
      "Resolved \"alpine\" as an alias (/etc/containers/registries.conf.d/000-shortnames.conf)\n",
      "Trying to pull docker.io/library/alpine:latest...\n",
      "Getting image source signatures\n",
      "Copying blob sha256:f97344484467e4c4ebb85aae724170073799295a3442c50ab532e249bd27b412\n",
      "Copying config sha256:3d81c46cd8756ddb6db9ec36fa06a6fb71c287fb265232ba516739dc67a5f07d\n",
      "Writing manifest to image destination\n",
      "Storing signatures\n",
      "fee00cf638d88226a3f1a2ab841a885654cf335c0da9a309e7b261bfa6d44eeb\n"
     ]
    }
   ],
   "source": [
    "podman run -d --name apache-httpd-index-updater --pod dynamic-webserver alpine sh -c 'while true; do echo \"Index Updated @$(date)\" >> /usr/local/apache2/htdocs/index.html; sleep 10; done'"
   ]
  },
  {
   "cell_type": "code",
   "execution_count": 17,
   "metadata": {},
   "outputs": [
    {
     "name": "stdout",
     "output_type": "stream",
     "text": [
      "<html><body><h1>It works!</h1></body></html>\n",
      "Index Updated @Tue Jul 26 16:02:16 UTC 2022\n",
      "Index Updated @Tue Jul 26 16:02:26 UTC 2022\n",
      "Index Updated @Tue Jul 26 16:02:36 UTC 2022\n",
      "Index Updated @Tue Jul 26 16:02:46 UTC 2022\n"
     ]
    }
   ],
   "source": [
    "curl -s localhost:8080"
   ]
  },
  {
   "cell_type": "markdown",
   "metadata": {},
   "source": [
    "## Cleanup Pods\n",
    "\n",
    "Removing pods deletes also their running containers, which is a fast way to cleanup resources.\n",
    "\n",
    "The command is pretty much the same as with containers, but prefixed with the word `pod`:"
   ]
  },
  {
   "cell_type": "code",
   "execution_count": 30,
   "metadata": {
    "vscode": {
     "languageId": "shellscript"
    }
   },
   "outputs": [
    {
     "name": "stdout",
     "output_type": "stream",
     "text": [
      "707e019d58a4f6117bda87fcc6408887d7c8b707af458d19e6e091120f65c23b\n"
     ]
    }
   ],
   "source": [
    "podman pod rm -f dynamic-webserver"
   ]
  },
  {
   "cell_type": "markdown",
   "metadata": {},
   "source": [
    "## Advanced Pod Creation: The init pattern\n",
    "\n",
    "The _init_ pattern is an advanced concept from Kuberbetes in which a container starts previous to other ones and performs some action (usuarlly set up or configure a dependent resource), so that other containers run properly afterwards.\n",
    "This way each container has exactly one concern.\n"
   ]
  },
  {
   "cell_type": "markdown",
   "metadata": {},
   "source": [
    "### Extending the previous example with an init container\n",
    "\n",
    "Let's extend the pod example that we have seen with an _init_ container.\n",
    "\n",
    "All in all we will have:\n",
    "\n",
    "1. A pod with a _pause_ container which will be defined as _new_ when creating the first container, the _init_ container.\n",
    "1. The _init_ container itself\n",
    "1. The _main_ httpd container\n",
    "1. The _sidecar_ (updater) container"
   ]
  },
  {
   "cell_type": "markdown",
   "metadata": {},
   "source": [
    "#### Creating the pod with the init container\n",
    "\n",
    "Note: It seems that using the init pattern we need to supply the volume explicitly on all subsequent commands."
   ]
  },
  {
   "cell_type": "code",
   "execution_count": 31,
   "metadata": {
    "vscode": {
     "languageId": "shellscript"
    }
   },
   "outputs": [
    {
     "name": "stdout",
     "output_type": "stream",
     "text": [
      "3511682884f4e406f328c294361ffb4772ec7461f12928e59e67e5b1e6ea4c52\n"
     ]
    }
   ],
   "source": [
    "podman create --name apache-httpd-init --init-ctr=always --pod new:dynamic-webserver -p 8080:80 --volume  webserver-data:/usr/local/apache2/htdocs:z busybox sh -c 'echo \"Static Website Init\" > /usr/local/apache2/htdocs/index.html'"
   ]
  },
  {
   "cell_type": "markdown",
   "metadata": {},
   "source": [
    "#### Creating the httpd server\n",
    "\n",
    "Note: again we supply the volume in this command explicitly."
   ]
  },
  {
   "cell_type": "code",
   "execution_count": 32,
   "metadata": {
    "vscode": {
     "languageId": "shellscript"
    }
   },
   "outputs": [
    {
     "name": "stdout",
     "output_type": "stream",
     "text": [
      "a1834a6f5332a610d8cfa7077c7d9ea557565ea0c9d1d83ec23556a5a4773333\n"
     ]
    }
   ],
   "source": [
    "podman run -d --name apache-httpd --pod dynamic-webserver --volume  webserver-data:/usr/local/apache2/htdocs:z  httpd:2.4"
   ]
  },
  {
   "cell_type": "markdown",
   "metadata": {},
   "source": [
    "#### Triggering the init container by starting the pod\n",
    "\n",
    "We have provided the flag --init-ctr=always, so this way the pod will initialise each time that we start it.\n",
    "\n",
    "To test this, let's stop and start the pod:"
   ]
  },
  {
   "cell_type": "code",
   "execution_count": 21,
   "metadata": {
    "vscode": {
     "languageId": "shellscript"
    }
   },
   "outputs": [
    {
     "name": "stdout",
     "output_type": "stream",
     "text": [
      "707e019d58a4f6117bda87fcc6408887d7c8b707af458d19e6e091120f65c23b\n"
     ]
    }
   ],
   "source": [
    "podman pod stop dynamic-webserver"
   ]
  },
  {
   "cell_type": "code",
   "execution_count": 22,
   "metadata": {
    "vscode": {
     "languageId": "shellscript"
    }
   },
   "outputs": [
    {
     "name": "stdout",
     "output_type": "stream",
     "text": [
      "707e019d58a4f6117bda87fcc6408887d7c8b707af458d19e6e091120f65c23b\n"
     ]
    }
   ],
   "source": [
    "podman pod start dynamic-webserver"
   ]
  },
  {
   "cell_type": "code",
   "execution_count": 23,
   "metadata": {
    "vscode": {
     "languageId": "shellscript"
    }
   },
   "outputs": [
    {
     "name": "stdout",
     "output_type": "stream",
     "text": [
      "Static Website Init\n"
     ]
    }
   ],
   "source": [
    "curl localhost:8080"
   ]
  },
  {
   "cell_type": "markdown",
   "metadata": {},
   "source": [
    "#### Creating the sidecar container (updater)\n",
    "\n",
    "Note: again we supply the volume in this command explicitly."
   ]
  },
  {
   "cell_type": "code",
   "execution_count": 33,
   "metadata": {
    "vscode": {
     "languageId": "shellscript"
    }
   },
   "outputs": [
    {
     "name": "stdout",
     "output_type": "stream",
     "text": [
      "3c01cc0e1105fdaf166c311b25249d5246ef371bc363bfa240f90497aec3e706\n"
     ]
    }
   ],
   "source": [
    "podman run -d --name apache-httpd-index-updater --pod dynamic-webserver --volume  webserver-data:/usr/local/apache2/htdocs:z  alpine sh -c 'while true; do echo \"Index Updated @$(date)\" >> /usr/local/apache2/htdocs/index.html; sleep 10; done'"
   ]
  },
  {
   "cell_type": "code",
   "execution_count": 34,
   "metadata": {
    "vscode": {
     "languageId": "shellscript"
    }
   },
   "outputs": [
    {
     "name": "stdout",
     "output_type": "stream",
     "text": [
      "Static Website Init\n",
      "Index Updated @Tue Jul 26 16:04:04 UTC 2022\n",
      "Index Updated @Tue Jul 26 16:04:14 UTC 2022\n",
      "Index Updated @Tue Jul 26 16:06:24 UTC 2022\n"
     ]
    }
   ],
   "source": [
    "curl localhost:8080"
   ]
  },
  {
   "cell_type": "code",
   "execution_count": 35,
   "metadata": {
    "vscode": {
     "languageId": "shellscript"
    }
   },
   "outputs": [
    {
     "name": "stdout",
     "output_type": "stream",
     "text": [
      "9dce7221436bedba1acc91eb7183f5daf8f2ac06251ef9be7f425c420cb0baf3\n"
     ]
    }
   ],
   "source": [
    "podman pod stop dynamic-webserver"
   ]
  },
  {
   "cell_type": "code",
   "execution_count": 27,
   "metadata": {
    "vscode": {
     "languageId": "shellscript"
    }
   },
   "outputs": [
    {
     "name": "stdout",
     "output_type": "stream",
     "text": [
      "curl: (7) Failed to connect to localhost port 8080 after 7 ms: Connection refused\n"
     ]
    },
    {
     "ename": "",
     "evalue": "7",
     "output_type": "error",
     "traceback": []
    }
   ],
   "source": [
    "curl localhost:8080"
   ]
  },
  {
   "cell_type": "markdown",
   "metadata": {},
   "source": [
    "## Generate a Kubernetes Pod Manifest from a Podman's Pod\n",
    "\n",
    "Podman can generate Kubernetes manifests out of running Pods (and play manifests too!).\n"
   ]
  },
  {
   "cell_type": "code",
   "execution_count": 37,
   "metadata": {
    "vscode": {
     "languageId": "shellscript"
    }
   },
   "outputs": [
    {
     "name": "stdout",
     "output_type": "stream",
     "text": [
      "# Save the output of this file and use kubectl create -f to import\n",
      "# it into Kubernetes.\n",
      "#\n",
      "# Created with podman-4.1.1\n",
      "apiVersion: v1\n",
      "kind: Pod\n",
      "metadata:\n",
      "  annotations:\n",
      "    io.kubernetes.cri-o.ContainerType/apache-httpd: container\n",
      "    io.kubernetes.cri-o.ContainerType/apache-httpd-index-updater: container\n",
      "    io.kubernetes.cri-o.ContainerType/apache-httpd-init: container\n",
      "    io.kubernetes.cri-o.SandboxID/apache-httpd: dynamic-webserver\n",
      "    io.kubernetes.cri-o.SandboxID/apache-httpd-index-updater: dynamic-webserver\n",
      "    io.kubernetes.cri-o.SandboxID/apache-httpd-init: dynamic-webserver\n",
      "    io.kubernetes.cri-o.TTY/apache-httpd: \"false\"\n",
      "    io.kubernetes.cri-o.TTY/apache-httpd-index-updater: \"false\"\n",
      "    io.kubernetes.cri-o.TTY/apache-httpd-init: \"false\"\n",
      "    io.podman.annotations.autoremove/apache-httpd: \"FALSE\"\n",
      "    io.podman.annotations.autoremove/apache-httpd-index-updater: \"FALSE\"\n",
      "    io.podman.annotations.autoremove/apache-httpd-init: \"FALSE\"\n",
      "    io.podman.annotations.init/apache-httpd: \"FALSE\"\n",
      "    io.podman.annotations.init/apache-httpd-index-updater: \"FALSE\"\n",
      "    io.podman.annotations.init/apache-httpd-init: \"FALSE\"\n",
      "    io.podman.annotations.privileged/apache-httpd: \"FALSE\"\n",
      "    io.podman.annotations.privileged/apache-httpd-index-updater: \"FALSE\"\n",
      "    io.podman.annotations.privileged/apache-httpd-init: \"FALSE\"\n",
      "    io.podman.annotations.publish-all/apache-httpd: \"FALSE\"\n",
      "    io.podman.annotations.publish-all/apache-httpd-index-updater: \"FALSE\"\n",
      "    io.podman.annotations.publish-all/apache-httpd-init: \"FALSE\"\n",
      "  creationTimestamp: \"2022-07-25T09:16:28Z\"\n",
      "  labels:\n",
      "    app: dynamic-webserver\n",
      "  name: dynamic-webserver\n",
      "spec:\n",
      "  containers:\n",
      "  - image: docker.io/library/httpd:2.4\n",
      "    name: apache-httpd\n",
      "    ports:\n",
      "    - containerPort: 80\n",
      "      hostPort: 8080\n",
      "    resources: {}\n",
      "    securityContext:\n",
      "      capabilities:\n",
      "        drop:\n",
      "        - CAP_MKNOD\n",
      "        - CAP_NET_RAW\n",
      "        - CAP_AUDIT_WRITE\n",
      "    volumeMounts:\n",
      "    - mountPath: /usr/local/apache2/htdocs\n",
      "      name: webserver-data-pvc\n",
      "  - command:\n",
      "    - sh\n",
      "    - -c\n",
      "    - while true; do echo \"Index Updated @$(date)\" >> /usr/local/apache2/htdocs/index.html;\n",
      "      sleep 10; done\n",
      "    image: docker.io/library/alpine:latest\n",
      "    name: apache-httpd-index-updater\n",
      "    resources: {}\n",
      "    securityContext:\n",
      "      capabilities:\n",
      "        drop:\n",
      "        - CAP_MKNOD\n",
      "        - CAP_NET_RAW\n",
      "        - CAP_AUDIT_WRITE\n",
      "    volumeMounts:\n",
      "    - mountPath: /usr/local/apache2/htdocs\n",
      "      name: webserver-data-pvc\n",
      "  initContainers:\n",
      "  - command:\n",
      "    - sh\n",
      "    - -c\n",
      "    - echo \"Static Website Init\" > /usr/local/apache2/htdocs/index.html\n",
      "    image: docker.io/library/busybox:latest\n",
      "    name: apache-httpd-init\n",
      "    resources: {}\n",
      "    securityContext:\n",
      "      capabilities:\n",
      "        drop:\n",
      "        - CAP_MKNOD\n",
      "        - CAP_NET_RAW\n",
      "        - CAP_AUDIT_WRITE\n",
      "    volumeMounts:\n",
      "    - mountPath: /usr/local/apache2/htdocs\n",
      "      name: webserver-data-pvc\n",
      "  restartPolicy: Never\n",
      "  volumes:\n",
      "  - name: webserver-data-pvc\n",
      "    persistentVolumeClaim:\n",
      "      claimName: webserver-data\n",
      "status: {}\n",
      "\n",
      "\u001b[?2004h"
     ]
    },
    {
     "ename": "",
     "evalue": "1",
     "output_type": "error",
     "traceback": []
    }
   ],
   "source": [
    "podman generate kube dynamic-webserver"
   ]
  },
  {
   "cell_type": "code",
   "execution_count": 38,
   "metadata": {
    "vscode": {
     "languageId": "shellscript"
    }
   },
   "outputs": [
    {
     "name": "stdout",
     "output_type": "stream",
     "text": [
      "apiVersion: v14l\u001b[?2004l\n",
      "kind: Pod\n",
      "metadata:\n",
      "  labels:\n",
      "    app: dynamic-webserver\n",
      "  name: dynamic-webserver\n",
      "spec:\n",
      "  containers:\n",
      "    - image: docker.io/library/httpd:2.4\n",
      "      name: apache-httpd\n",
      "      ports:\n",
      "        - containerPort: 80\n",
      "          hostPort: 8080\n",
      "      resources: {}\n",
      "      securityContext:\n",
      "        capabilities:\n",
      "          drop:\n",
      "            - CAP_MKNOD\n",
      "            - CAP_NET_RAW\n",
      "            - CAP_AUDIT_WRITE\n",
      "      volumeMounts:\n",
      "        - mountPath: /usr/local/apache2/htdocs\n",
      "          name: webserver-data-pvc\n",
      "    - command:\n",
      "        - sh\n",
      "        - -c\n",
      "        - while true; do echo \"Index Updated @$(date)\" >> /usr/local/apache2/htdocs/index.html;\n",
      "          sleep 10; done\n",
      "      image: docker.io/library/alpine:latest\n",
      "      name: apache-httpd-index-updater\n",
      "      resources: {}\n",
      "      securityContext:\n",
      "        capabilities:\n",
      "          drop:\n",
      "            - CAP_MKNOD\n",
      "            - CAP_NET_RAW\n",
      "            - CAP_AUDIT_WRITE\n",
      "      volumeMounts:\n",
      "        - mountPath: /usr/local/apache2/htdocs\n",
      "          name: webserver-data-pvc\n",
      "  initContainers:\n",
      "    - command:\n",
      "        - sh\n",
      "        - -c\n",
      "        - echo \"Static Website Init\" > /usr/local/apache2/htdocs/index.html\n",
      "      image: docker.io/library/busybox:latest\n",
      "      name: apache-httpd-init\n",
      "      resources: {}\n",
      "      securityContext:\n",
      "        capabilities:\n",
      "          drop:\n",
      "            - CAP_MKNOD\n",
      "            - CAP_NET_RAW\n",
      "            - CAP_AUDIT_WRITE\n",
      "      volumeMounts:\n",
      "        - mountPath: /usr/local/apache2/htdocs\n",
      "          name: webserver-data-pvc\n",
      "  restartPolicy: Never\n",
      "  volumes:\n",
      "    - name: webserver-data-pvc\n",
      "      persistentVolumeClaim:\n",
      "        claimName: webserver-data\n",
      "\u001b[?2004h"
     ]
    },
    {
     "ename": "",
     "evalue": "1",
     "output_type": "error",
     "traceback": []
    }
   ],
   "source": [
    "# Clean export to remove unnecessary metadata\n",
    "\n",
    "podman generate kube dynamic-webserver | yq 'del(.metadata.annotations , .metadata.creationTimestamp , .status)' --yaml-output"
   ]
  },
  {
   "cell_type": "code",
   "execution_count": 39,
   "metadata": {
    "vscode": {
     "languageId": "shellscript"
    }
   },
   "outputs": [
    {
     "name": "stdout",
     "output_type": "stream",
     "text": [
      "\u001b[?2004h\u001b[?2004l\u001b[?2004l"
     ]
    },
    {
     "ename": "",
     "evalue": "1",
     "output_type": "error",
     "traceback": []
    }
   ],
   "source": [
    "# Export to a manifest\n",
    "\n",
    "podman generate kube dynamic-webserver | yq 'del(.metadata.annotations , .metadata.creationTimestamp , .status)' --yaml-output > tests/dynamic-webserver-pod.yaml"
   ]
  }
 ],
 "metadata": {
  "kernelspec": {
   "display_name": "Bash",
   "language": "bash",
   "name": "bash"
  },
  "language_info": {
   "codemirror_mode": "shell",
   "file_extension": ".sh",
   "mimetype": "text/x-sh",
   "name": "bash"
  }
 },
 "nbformat": 4,
 "nbformat_minor": 2
}
