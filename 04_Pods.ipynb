{
 "cells": [
  {
   "cell_type": "markdown",
   "metadata": {},
   "source": [
    "# Pods\n",
    "\n",
    "Podman has the hability to run containers in Pods, like in Kubernetes.\n",
    "\n",
    "Pod is a concept in which a group of one or more containers working together for a common purpose and sharing the same namespaces and cgroups (resource constraints).\n",
    "This way it is also possible to group containers's network space and volume mounts, making it easier for the containers to interact and work as if they were a single unit.\n"
   ]
  },
  {
   "cell_type": "markdown",
   "metadata": {},
   "source": [
    "## Running Pods\n",
    "\n",
    "To run containers in pods requires to plan a little bit, as the pod needs to be created up-front, specifying the volumes and ports that will be required.\n",
    "Afterwards the containers will be attached to this pod.\n",
    "\n",
    "We will run the following example to demonstrate how it works, start a simple http server in one pod, while in another we will refresh the index.html using a volume: 2 concerns (2 containers and 1 pod):\n",
    "\n",
    "1. Create a pod\n",
    "1. Create the web server container and attach it to the pod\n",
    "1. Create the sidecar container that will update the index.html\n",
    "\n"
   ]
  },
  {
   "cell_type": "markdown",
   "metadata": {},
   "source": [
    "### Create the Pod\n",
    "\n",
    "After creating the path for the volume mount we will:\n",
    "\n",
    "1. Specify the port binding (8080:80)\n",
    "1. Specify a volume mount to `/usr/local/apache2/htdocs` with the `z` parameter. `z` specifies that the volume mount should happen in each container (shared)."
   ]
  },
  {
   "cell_type": "code",
   "execution_count": 2,
   "metadata": {
    "vscode": {
     "languageId": "shellscript"
    }
   },
   "outputs": [
    {
     "name": "stdout",
     "output_type": "stream",
     "text": [
      "\u001b[?2004h"
     ]
    },
    {
     "ename": "",
     "evalue": "1",
     "output_type": "error",
     "traceback": []
    }
   ],
   "source": [
    "podman volume create webserver-data"
   ]
  },
  {
   "cell_type": "code",
   "execution_count": 11,
   "metadata": {
    "vscode": {
     "languageId": "shellscript"
    }
   },
   "outputs": [
    {
     "name": "stdout",
     "output_type": "stream",
     "text": [
      "d73f9bc69c6c33ff0b8bcfef53b85ad8300393e2a179621520553bfc004517c2\n",
      "\u001b[?2004h"
     ]
    },
    {
     "ename": "",
     "evalue": "1",
     "output_type": "error",
     "traceback": []
    }
   ],
   "source": [
    "podman pod create -p 8080:80 --name dynamic-webserver --volume  webserver-data:/usr/local/apache2/htdocs:z"
   ]
  },
  {
   "cell_type": "code",
   "execution_count": 12,
   "metadata": {
    "vscode": {
     "languageId": "shellscript"
    }
   },
   "outputs": [
    {
     "name": "stdout",
     "output_type": "stream",
     "text": [
      "POD ID        NAME               STATUS      CREATED       INFRA ID      # OF CONTAINERS\n",
      "d73f9bc69c6c  dynamic-webserver  Created     1 second ago  6ff3524a368e  1\n",
      "\u001b[?2004h"
     ]
    },
    {
     "ename": "",
     "evalue": "1",
     "output_type": "error",
     "traceback": []
    }
   ],
   "source": [
    "podman pod ps"
   ]
  },
  {
   "cell_type": "markdown",
   "metadata": {},
   "source": [
    "### Inspecting the pod (right after creation)\n",
    "\n",
    "Although we just created a pod without explicitly attaching containers to it, there is already a running container in this pod: the `pause` container from the Kubernetes project.\n",
    "It is in charge of maintaining the namespaces and networks from the whole pod.\n",
    "\n",
    "Let's check this out:"
   ]
  },
  {
   "cell_type": "code",
   "execution_count": 13,
   "metadata": {
    "vscode": {
     "languageId": "shellscript"
    }
   },
   "outputs": [
    {
     "name": "stdout",
     "output_type": "stream",
     "text": [
      "CONTAINER ID  IMAGE                                    COMMAND     CREATED         STATUS             PORTS                 NAMES               POD ID        PODNAME\n",
      "4b9f9d36290a  localhost/podman-pause:4.1.1-1655914710              18 minutes ago  Up 18 minutes ago  0.0.0.0:8080->80/tcp  eb28e60a4641-infra  eb28e60a4641  dynamic-webserver\n",
      "\u001b[?2004h"
     ]
    },
    {
     "ename": "",
     "evalue": "1",
     "output_type": "error",
     "traceback": []
    }
   ],
   "source": [
    "podman ps --pod"
   ]
  },
  {
   "cell_type": "code",
   "execution_count": 14,
   "metadata": {
    "vscode": {
     "languageId": "shellscript"
    }
   },
   "outputs": [
    {
     "name": "stdout",
     "output_type": "stream",
     "text": [
      "[{volume webserver-data /var/lib/containers/storage/volumes/webserver-data/_data /usr/local/apache2/htdocs local z [nosuid nodev rbind] true rprivate}]\n",
      "\u001b[?2004h"
     ]
    },
    {
     "ename": "",
     "evalue": "1",
     "output_type": "error",
     "traceback": []
    }
   ],
   "source": [
    "podman inspect $(podman ps | awk '/pause/{ print $NF }' | grep infra) --format '{{.Mounts}}'"
   ]
  },
  {
   "cell_type": "code",
   "execution_count": 15,
   "metadata": {
    "vscode": {
     "languageId": "shellscript"
    }
   },
   "outputs": [
    {
     "name": "stdout",
     "output_type": "stream",
     "text": [
      "map[80/tcp:[{ 8080}]]\n",
      "\u001b[?2004h"
     ]
    },
    {
     "ename": "",
     "evalue": "1",
     "output_type": "error",
     "traceback": []
    }
   ],
   "source": [
    "podman inspect $(podman ps | awk '/pause/{ print $NF }' | grep infra) --format '{{.HostConfig.PortBindings}}'"
   ]
  },
  {
   "cell_type": "markdown",
   "metadata": {},
   "source": [
    "### Attach the containers\n",
    "\n",
    "1. First we create the httpd container, which simply serves the index.html file from the htdocs folder\n",
    "1. Then we start a sidecar container that will update the index adding timestamps. This is a silly test whose purpose is to demonstrate the volume share.\n",
    "\n",
    "Note that we are not supplying ports nor volumes to the single containers, they inherit those from the pod."
   ]
  },
  {
   "cell_type": "code",
   "execution_count": 16,
   "metadata": {
    "vscode": {
     "languageId": "shellscript"
    }
   },
   "outputs": [
    {
     "name": "stdout",
     "output_type": "stream",
     "text": [
      "37303e17edb06c20421084c116fd097e35163bc9c9c7eed381985aa6a395c540\n",
      "\u001b[?2004h"
     ]
    },
    {
     "ename": "",
     "evalue": "1",
     "output_type": "error",
     "traceback": []
    }
   ],
   "source": [
    "podman run -d --name apache-httpd --pod dynamic-webserver httpd:2.4"
   ]
  },
  {
   "cell_type": "code",
   "execution_count": 17,
   "metadata": {
    "vscode": {
     "languageId": "shellscript"
    }
   },
   "outputs": [
    {
     "name": "stdout",
     "output_type": "stream",
     "text": [
      "<html><body><h1>It works!</h1></body></html>\n",
      "Index Updated @Mon Jul 25 08:08:12 UTC 2022\n",
      "Index Updated @Mon Jul 25 08:08:22 UTC 2022\n",
      "Index Updated @Mon Jul 25 08:08:32 UTC 2022\n",
      "Index Updated @Mon Jul 25 08:08:42 UTC 2022\n",
      "Index Updated @Mon Jul 25 08:08:52 UTC 2022\n",
      "Index Updated @Mon Jul 25 08:09:02 UTC 2022\n",
      "Index Updated @Mon Jul 25 08:09:12 UTC 2022\n",
      "Index Updated @Mon Jul 25 08:09:22 UTC 2022\n",
      "Index Updated @Mon Jul 25 08:09:32 UTC 2022\n",
      "Index Updated @Mon Jul 25 08:09:42 UTC 2022\n",
      "Index Updated @Mon Jul 25 08:09:52 UTC 2022\n",
      "Index Updated @Mon Jul 25 08:10:02 UTC 2022\n",
      "Index Updated @Mon Jul 25 08:10:12 UTC 2022\n",
      "Index Updated @Mon Jul 25 08:10:22 UTC 2022\n",
      "Index Updated @Mon Jul 25 08:10:32 UTC 2022\n",
      "Index Updated @Mon Jul 25 08:10:42 UTC 2022\n",
      "Index Updated @Mon Jul 25 08:10:52 UTC 2022\n",
      "Index Updated @Mon Jul 25 08:11:02 UTC 2022\n",
      "Index Updated @Mon Jul 25 08:11:12 UTC 2022\n",
      "Index Updated @Mon Jul 25 08:11:22 UTC 2022\n",
      "Index Updated @Mon Jul 25 08:11:32 UTC 2022\n",
      "Index Updated @Mon Jul 25 08:11:42 UTC 2022\n",
      "Index Updated @Mon Jul 25 08:11:52 UTC 2022\n",
      "Index Updated @Mon Jul 25 08:12:02 UTC 2022\n",
      "Index Updated @Mon Jul 25 08:12:12 UTC 2022\n",
      "Index Updated @Mon Jul 25 08:12:22 UTC 2022\n",
      "Index Updated @Mon Jul 25 08:12:32 UTC 2022\n",
      "Index Updated @Mon Jul 25 08:12:42 UTC 2022\n",
      "Index Updated @Mon Jul 25 08:12:52 UTC 2022\n",
      "Index Updated @Mon Jul 25 08:13:02 UTC 2022\n",
      "Index Updated @Mon Jul 25 08:13:12 UTC 2022\n",
      "Index Updated @Mon Jul 25 08:13:22 UTC 2022\n",
      "Index Updated @Mon Jul 25 08:13:32 UTC 2022\n",
      "\u001b[?2004h"
     ]
    },
    {
     "ename": "",
     "evalue": "1",
     "output_type": "error",
     "traceback": []
    }
   ],
   "source": [
    "curl -s localhost:8080"
   ]
  },
  {
   "cell_type": "code",
   "execution_count": null,
   "metadata": {
    "vscode": {
     "languageId": "shellscript"
    }
   },
   "outputs": [],
   "source": [
    "podman run -d --name apache-httpd-index-updater --pod dynamic-webserver alpine sh -c 'while true; do echo \"Index Updated @$(date)\" >> /usr/local/apache2/htdocs/index.html; sleep 10; done'"
   ]
  },
  {
   "cell_type": "markdown",
   "metadata": {},
   "source": [
    "## Cleanup Pods\n",
    "\n",
    "Removing pods deletes also their running containers, which is a fast way to cleanup resources.\n",
    "\n",
    "The command is pretty much the same as with containers, but prefixed with the word `pod`:"
   ]
  },
  {
   "cell_type": "code",
   "execution_count": 10,
   "metadata": {
    "vscode": {
     "languageId": "shellscript"
    }
   },
   "outputs": [
    {
     "name": "stdout",
     "output_type": "stream",
     "text": [
      "923bf3dcbea904e915711af640db2b4f6eaab3235639552fde0bc7b8036b8a74\n",
      "\u001b[?2004h"
     ]
    },
    {
     "ename": "",
     "evalue": "1",
     "output_type": "error",
     "traceback": []
    }
   ],
   "source": [
    "podman pod rm -f dynamic-webserver"
   ]
  }
 ],
 "metadata": {
  "kernelspec": {
   "display_name": "Bash",
   "language": "bash",
   "name": "bash"
  },
  "language_info": {
   "codemirror_mode": "shell",
   "file_extension": ".sh",
   "mimetype": "text/x-sh",
   "name": "bash"
  },
  "orig_nbformat": 4
 },
 "nbformat": 4,
 "nbformat_minor": 2
}
