{
 "cells": [
  {
   "cell_type": "markdown",
   "metadata": {},
   "source": [
    "# Container Volume Mounts\n",
    "\n",
    "A Volume Mount is a way to give a Container a mounted filesystem, specified by a path.\n",
    "\n",
    "With mounts you achieve:\n",
    "\n",
    "- Provide data avoiding embedding actual data in the same container\n",
    "- Reduce overhead and improve storage read/write performance\n",
    "- Share content\n",
    "\n",
    "There are 2 kinds of volumes in respect to the host:\n",
    "\n",
    "- Volume mounts from the host (for example, from macOS to the Podman Machine)\n",
    "- Named volumes (only available to the container engine)\n"
   ]
  },
  {
   "cell_type": "markdown",
   "metadata": {},
   "source": [
    "## Accessing a file using a volume mount\n",
    "\n",
    "Accessing a file from the host (macOS) within the container requires a volume mount.\n",
    "\n",
    "Let's create a sample file and see how this works:"
   ]
  },
  {
   "cell_type": "code",
   "execution_count": 3,
   "metadata": {
    "vscode": {
     "languageId": "shellscript"
    }
   },
   "outputs": [
    {
     "name": "stdout",
     "output_type": "stream",
     "text": [
      "\u001b[?2004h\u001b[?2004l\u001b[?2004l"
     ]
    },
    {
     "ename": "",
     "evalue": "1",
     "output_type": "error",
     "traceback": []
    }
   ],
   "source": [
    "# Create a sample folder and file\n",
    "mkdir -p tests/volume/\n",
    "echo \"volume test, this is accessed by the busybox container\" > tests/volume/test"
   ]
  },
  {
   "cell_type": "code",
   "execution_count": 4,
   "metadata": {
    "vscode": {
     "languageId": "shellscript"
    }
   },
   "outputs": [
    {
     "name": "stdout",
     "output_type": "stream",
     "text": [
      "volume test, this is accessed by the busybox container\n",
      "\u001b[?2004h"
     ]
    },
    {
     "ename": "",
     "evalue": "1",
     "output_type": "error",
     "traceback": []
    }
   ],
   "source": [
    "# Now let's mount the filesystem and access it on the container\n",
    "podman run -it --rm -v $PWD/tests:/tests  busybox cat /tests/volume/test"
   ]
  },
  {
   "cell_type": "markdown",
   "metadata": {},
   "source": [
    "## Named Volume Mounts\n",
    "\n",
    "A _named volume mount_ is a mount of a volume by name:\n",
    "- A volume needs to exist and have a name (needs to be created previous to the volume mount)\n",
    "- The volume's name is then passed to the left side of the `:` on the volume binding argument\n",
    "- The container runtime understands each `non-path` argument on the left side of the binding `:` as a named volume.\n"
   ]
  },
  {
   "cell_type": "markdown",
   "metadata": {},
   "source": [
    "### Testing persistence through volume binding\n",
    "\n",
    "We will create a sample volume and run some commands within different containers to fill a file with data.\n",
    "\n",
    "The containers will be removed after each execution (`--rm` flag), but the data will be persisted."
   ]
  },
  {
   "cell_type": "code",
   "execution_count": 1,
   "metadata": {
    "vscode": {
     "languageId": "shellscript"
    }
   },
   "outputs": [
    {
     "name": "stdout",
     "output_type": "stream",
     "text": [
      "sample-volume\n",
      "\u001b[?2004h"
     ]
    },
    {
     "ename": "",
     "evalue": "1",
     "output_type": "error",
     "traceback": []
    }
   ],
   "source": [
    "podman volume create sample-volume"
   ]
  },
  {
   "cell_type": "code",
   "execution_count": 3,
   "metadata": {
    "vscode": {
     "languageId": "shellscript"
    }
   },
   "outputs": [
    {
     "name": "stdout",
     "output_type": "stream",
     "text": [
      "Mon Jul 25 15:48:52 UTC 2022\n",
      "\u001b[?2004h"
     ]
    },
    {
     "ename": "",
     "evalue": "1",
     "output_type": "error",
     "traceback": []
    }
   ],
   "source": [
    "podman run --rm --name busybox-with-volume -v sample-volume:/data busybox sh -c 'date >> /data/persistent_data.txt && cat /data/persistent_data.txt'"
   ]
  },
  {
   "cell_type": "code",
   "execution_count": 4,
   "metadata": {
    "vscode": {
     "languageId": "shellscript"
    }
   },
   "outputs": [
    {
     "name": "stdout",
     "output_type": "stream",
     "text": [
      "Mon Jul 25 15:48:52 UTC 2022\n",
      "Mon Jul 25 15:49:08 UTC 2022\n",
      "\u001b[?2004h"
     ]
    },
    {
     "ename": "",
     "evalue": "1",
     "output_type": "error",
     "traceback": []
    }
   ],
   "source": [
    "podman run --rm --name busybox-with-volume -v sample-volume:/data busybox sh -c 'date >> /data/persistent_data.txt && cat /data/persistent_data.txt'"
   ]
  },
  {
   "cell_type": "code",
   "execution_count": 6,
   "metadata": {
    "vscode": {
     "languageId": "shellscript"
    }
   },
   "outputs": [
    {
     "name": "stdout",
     "output_type": "stream",
     "text": [
      "Mon Jul 25 15:48:52 UTC 2022\n",
      "Mon Jul 25 15:49:08 UTC 2022\n",
      "Mon Jul 25 15:52:05 UTC 2022\n",
      "Mon Jul 25 15:48:52 UTC 2022\n",
      "Mon Jul 25 15:49:08 UTC 2022\n",
      "Mon Jul 25 15:52:05 UTC 2022\n",
      "Mon Jul 25 15:52:06 UTC 2022\n",
      "Mon Jul 25 15:48:52 UTC 2022\n",
      "Mon Jul 25 15:49:08 UTC 2022\n",
      "Mon Jul 25 15:52:05 UTC 2022\n",
      "Mon Jul 25 15:52:06 UTC 2022\n",
      "Mon Jul 25 15:52:06 UTC 2022\n",
      "Mon Jul 25 15:48:52 UTC 2022\n",
      "Mon Jul 25 15:49:08 UTC 2022\n",
      "Mon Jul 25 15:52:05 UTC 2022\n",
      "Mon Jul 25 15:52:06 UTC 2022\n",
      "Mon Jul 25 15:52:06 UTC 2022\n",
      "Mon Jul 25 15:52:07 UTC 2022\n",
      "Mon Jul 25 15:48:52 UTC 2022\n",
      "Mon Jul 25 15:49:08 UTC 2022\n",
      "Mon Jul 25 15:52:05 UTC 2022\n",
      "Mon Jul 25 15:52:06 UTC 2022\n",
      "Mon Jul 25 15:52:06 UTC 2022\n",
      "Mon Jul 25 15:52:07 UTC 2022\n",
      "Mon Jul 25 15:52:07 UTC 2022\n",
      "Mon Jul 25 15:48:52 UTC 2022\n",
      "Mon Jul 25 15:49:08 UTC 2022\n",
      "Mon Jul 25 15:52:05 UTC 2022\n",
      "Mon Jul 25 15:52:06 UTC 2022\n",
      "Mon Jul 25 15:52:06 UTC 2022\n",
      "Mon Jul 25 15:52:07 UTC 2022\n",
      "Mon Jul 25 15:52:07 UTC 2022\n",
      "Mon Jul 25 15:52:08 UTC 2022\n",
      "Mon Jul 25 15:48:52 UTC 2022\n",
      "Mon Jul 25 15:49:08 UTC 2022\n",
      "Mon Jul 25 15:52:05 UTC 2022\n",
      "Mon Jul 25 15:52:06 UTC 2022\n",
      "Mon Jul 25 15:52:06 UTC 2022\n",
      "Mon Jul 25 15:52:07 UTC 2022\n",
      "Mon Jul 25 15:52:07 UTC 2022\n",
      "Mon Jul 25 15:52:08 UTC 2022\n",
      "Mon Jul 25 15:52:09 UTC 2022\n",
      "Mon Jul 25 15:48:52 UTC 2022\n",
      "Mon Jul 25 15:49:08 UTC 2022\n",
      "Mon Jul 25 15:52:05 UTC 2022\n",
      "Mon Jul 25 15:52:06 UTC 2022\n",
      "Mon Jul 25 15:52:06 UTC 2022\n",
      "Mon Jul 25 15:52:07 UTC 2022\n",
      "Mon Jul 25 15:52:07 UTC 2022\n",
      "Mon Jul 25 15:52:08 UTC 2022\n",
      "Mon Jul 25 15:52:09 UTC 2022\n",
      "Mon Jul 25 15:52:09 UTC 2022\n",
      "Mon Jul 25 15:48:52 UTC 2022\n",
      "Mon Jul 25 15:49:08 UTC 2022\n",
      "Mon Jul 25 15:52:05 UTC 2022\n",
      "Mon Jul 25 15:52:06 UTC 2022\n",
      "Mon Jul 25 15:52:06 UTC 2022\n",
      "Mon Jul 25 15:52:07 UTC 2022\n",
      "Mon Jul 25 15:52:07 UTC 2022\n",
      "Mon Jul 25 15:52:08 UTC 2022\n",
      "Mon Jul 25 15:52:09 UTC 2022\n",
      "Mon Jul 25 15:52:09 UTC 2022\n",
      "Mon Jul 25 15:52:10 UTC 2022\n",
      "Mon Jul 25 15:48:52 UTC 2022\n",
      "Mon Jul 25 15:49:08 UTC 2022\n",
      "Mon Jul 25 15:52:05 UTC 2022\n",
      "Mon Jul 25 15:52:06 UTC 2022\n",
      "Mon Jul 25 15:52:06 UTC 2022\n",
      "Mon Jul 25 15:52:07 UTC 2022\n",
      "Mon Jul 25 15:52:07 UTC 2022\n",
      "Mon Jul 25 15:52:08 UTC 2022\n",
      "Mon Jul 25 15:52:09 UTC 2022\n",
      "Mon Jul 25 15:52:09 UTC 2022\n",
      "Mon Jul 25 15:52:10 UTC 2022\n",
      "Mon Jul 25 15:52:10 UTC 2022\n",
      "\u001b[?2004h"
     ]
    },
    {
     "ename": "",
     "evalue": "1",
     "output_type": "error",
     "traceback": []
    }
   ],
   "source": [
    "for c in $(seq 1 10); do\n",
    "    podman run --rm -v sample-volume:/data busybox sh -c 'date >> /data/persistent_data.txt && cat /data/persistent_data.txt'\n",
    "done"
   ]
  },
  {
   "cell_type": "markdown",
   "metadata": {},
   "source": [
    "### Clean up the sample volume\n",
    "\n",
    "Note: Deleting a volume erases the data within."
   ]
  },
  {
   "cell_type": "code",
   "execution_count": 7,
   "metadata": {
    "vscode": {
     "languageId": "shellscript"
    }
   },
   "outputs": [
    {
     "name": "stdout",
     "output_type": "stream",
     "text": [
      "sample-volume\n",
      "\u001b[?2004h"
     ]
    },
    {
     "ename": "",
     "evalue": "1",
     "output_type": "error",
     "traceback": []
    }
   ],
   "source": [
    "podman volume rm sample-volume"
   ]
  }
 ],
 "metadata": {
  "kernelspec": {
   "display_name": "Bash",
   "language": "bash",
   "name": "bash"
  },
  "language_info": {
   "codemirror_mode": "shell",
   "file_extension": ".sh",
   "mimetype": "text/x-sh",
   "name": "bash"
  },
  "orig_nbformat": 4
 },
 "nbformat": 4,
 "nbformat_minor": 2
}
