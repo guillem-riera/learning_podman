{
 "cells": [
  {
   "cell_type": "markdown",
   "metadata": {},
   "source": [
    "# Container Volume Mounts\n",
    "\n",
    "A Volume Mount is a way to give a Container a mounted filesystem, specified by a path.\n",
    "\n",
    "With mounts you achieve:\n",
    "\n",
    "- Provide data avoiding embedding actual data in the same container\n",
    "- Reduce overhead and improve storage read/write performance\n",
    "- Share content\n",
    "\n",
    "There are 2 kinds of volumes in respect to the host:\n",
    "\n",
    "- Volume mounts from the host (for example, from macOS to the Podman Machine)\n",
    "- Named volumes (only available to the container engine)\n"
   ]
  },
  {
   "cell_type": "markdown",
   "metadata": {},
   "source": [
    "## Accessing a file using a volume mount\n",
    "\n",
    "Accessing a file from the host (macOS) within the container requires a volume mount.\n",
    "\n",
    "Let's create a sample file and see how this works:"
   ]
  },
  {
   "cell_type": "code",
   "execution_count": 3,
   "metadata": {
    "vscode": {
     "languageId": "shellscript"
    }
   },
   "outputs": [
    {
     "name": "stdout",
     "output_type": "stream",
     "text": [
      "\u001b[?2004h\u001b[?2004l\u001b[?2004l"
     ]
    },
    {
     "ename": "",
     "evalue": "1",
     "output_type": "error",
     "traceback": []
    }
   ],
   "source": [
    "# Create a sample folder and file\n",
    "mkdir -p tests/volume/\n",
    "echo \"volume test, this is accessed by the busybox container\" > tests/volume/test"
   ]
  },
  {
   "cell_type": "code",
   "execution_count": 4,
   "metadata": {
    "vscode": {
     "languageId": "shellscript"
    }
   },
   "outputs": [
    {
     "name": "stdout",
     "output_type": "stream",
     "text": [
      "volume test, this is accessed by the busybox container\n",
      "\u001b[?2004h"
     ]
    },
    {
     "ename": "",
     "evalue": "1",
     "output_type": "error",
     "traceback": []
    }
   ],
   "source": [
    "# Now let's mount the filesystem and access it on the container\n",
    "podman run -it --rm -v $PWD/tests:/tests  busybox cat /tests/volume/test"
   ]
  }
 ],
 "metadata": {
  "kernelspec": {
   "display_name": "Bash",
   "language": "bash",
   "name": "bash"
  },
  "language_info": {
   "codemirror_mode": "shell",
   "file_extension": ".sh",
   "mimetype": "text/x-sh",
   "name": "bash"
  },
  "orig_nbformat": 4
 },
 "nbformat": 4,
 "nbformat_minor": 2
}
