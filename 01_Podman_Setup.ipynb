{
 "cells": [
  {
   "cell_type": "markdown",
   "metadata": {},
   "source": [
    "# Podman Machine Setup\n",
    "\n",
    "Podman runs on top of a Linux host, which means that on macOS and Windows a virtual machine is required (like for Docker).\n",
    "Mimicking the `docker machine`, podman can create fedora CoreOS vm's (rootless or rootfull) and provide a docker compatible API runtime.\n",
    "\n",
    "Let's see how to manage podman machines."
   ]
  },
  {
   "cell_type": "code",
   "execution_count": 8,
   "metadata": {
    "vscode": {
     "languageId": "shellscript"
    }
   },
   "outputs": [
    {
     "name": "stdout",
     "output_type": "stream",
     "text": [
      "NAME        VM TYPE     CREATED     LAST UP     CPUS        MEMORY      DISK SIZE\n",
      "\u001b[?2004h"
     ]
    },
    {
     "ename": "",
     "evalue": "1",
     "output_type": "error",
     "traceback": []
    }
   ],
   "source": [
    "# List Machines\n",
    "podman machine ls"
   ]
  },
  {
   "cell_type": "code",
   "execution_count": 10,
   "metadata": {
    "vscode": {
     "languageId": "shellscript"
    }
   },
   "outputs": [
    {
     "name": "stdout",
     "output_type": "stream",
     "text": [
      "Downloading VM image: fedora-coreos-36.20220703.2.1-qemu.aarch64.qcow2.xz  1.3M…\n",
      "\u001b[1A\u001b[JDownloading VM image: fedora-coreos-36.20220703.2.1-qemu.aarch64.qcow2.xz  3.3M…\n",
      "\u001b[1A\u001b[JDownloading VM image: fedora-coreos-36.20220703.2.1-qemu.aarch64.qcow2.xz  6.2M…\n",
      "\u001b[1A\u001b[JDownloading VM image: fedora-coreos-36.20220703.2.1-qemu.aarch64.qcow2.xz  10.1…\n",
      "\u001b[1A\u001b[JDownloading VM image: fedora-coreos-36.20220703.2.1-qemu.aarch64.qcow2.xz  13.2…\n",
      "\u001b[1A\u001b[JDownloading VM image: fedora-coreos-36.20220703.2.1-qemu.aarch64.qcow2.xz  17.4…\n",
      "\u001b[1A\u001b[JDownloading VM image: fedora-coreos-36.20220703.2.1-qemu.aarch64.qcow2.xz  23.3…\n",
      "\u001b[1A\u001b[JDownloading VM image: fedora-coreos-36.20220703.2.1-qemu.aarch64.qcow2.xz  29.2…\n",
      "\u001b[1A\u001b[JDownloading VM image: fedora-coreos-36.20220703.2.1-qemu.aarch64.qcow2.xz  35.0…\n",
      "\u001b[1A\u001b[JDownloading VM image: fedora-coreos-36.20220703.2.1-qemu.aarch64.qcow2.xz  40.9…\n",
      "\u001b[1A\u001b[JDownloading VM image: fedora-coreos-36.20220703.2.1-qemu.aarch64.qcow2.xz  46.6…\n",
      "\u001b[1A\u001b[JDownloading VM image: fedora-coreos-36.20220703.2.1-qemu.aarch64.qcow2.xz  52.3…\n",
      "\u001b[1A\u001b[JDownloading VM image: fedora-coreos-36.20220703.2.1-qemu.aarch64.qcow2.xz  58.1…\n",
      "\u001b[1A\u001b[JDownloading VM image: fedora-coreos-36.20220703.2.1-qemu.aarch64.qcow2.xz  64.0…\n",
      "\u001b[1A\u001b[JDownloading VM image: fedora-coreos-36.20220703.2.1-qemu.aarch64.qcow2.xz  69.8…\n",
      "\u001b[1A\u001b[JDownloading VM image: fedora-coreos-36.20220703.2.1-qemu.aarch64.qcow2.xz  75.6…\n",
      "\u001b[1A\u001b[JDownloading VM image: fedora-coreos-36.20220703.2.1-qemu.aarch64.qcow2.xz  81.4…\n",
      "\u001b[1A\u001b[JDownloading VM image: fedora-coreos-36.20220703.2.1-qemu.aarch64.qcow2.xz  86.9…\n",
      "\u001b[1A\u001b[JDownloading VM image: fedora-coreos-36.20220703.2.1-qemu.aarch64.qcow2.xz  92.4…\n",
      "\u001b[1A\u001b[JDownloading VM image: fedora-coreos-36.20220703.2.1-qemu.aarch64.qcow2.xz  98.2…\n",
      "\u001b[1A\u001b[JDownloading VM image: fedora-coreos-36.20220703.2.1-qemu.aarch64.qcow2.xz  104.…\n",
      "\u001b[1A\u001b[JDownloading VM image: fedora-coreos-36.20220703.2.1-qemu.aarch64.qcow2.xz  109.…\n",
      "\u001b[1A\u001b[JDownloading VM image: fedora-coreos-36.20220703.2.1-qemu.aarch64.qcow2.xz  114.…\n",
      "\u001b[1A\u001b[JDownloading VM image: fedora-coreos-36.20220703.2.1-qemu.aarch64.qcow2.xz  120.…\n",
      "\u001b[1A\u001b[JDownloading VM image: fedora-coreos-36.20220703.2.1-qemu.aarch64.qcow2.xz  126.…\n",
      "\u001b[1A\u001b[JDownloading VM image: fedora-coreos-36.20220703.2.1-qemu.aarch64.qcow2.xz  132.…\n",
      "\u001b[1A\u001b[JDownloading VM image: fedora-coreos-36.20220703.2.1-qemu.aarch64.qcow2.xz  137.…\n",
      "\u001b[1A\u001b[JDownloading VM image: fedora-coreos-36.20220703.2.1-qemu.aarch64.qcow2.xz  143.…\n",
      "\u001b[1A\u001b[JDownloading VM image: fedora-coreos-36.20220703.2.1-qemu.aarch64.qcow2.xz  149.…\n",
      "\u001b[1A\u001b[JDownloading VM image: fedora-coreos-36.20220703.2.1-qemu.aarch64.qcow2.xz  155.…\n",
      "\u001b[1A\u001b[JDownloading VM image: fedora-coreos-36.20220703.2.1-qemu.aarch64.qcow2.xz  160.…\n",
      "\u001b[1A\u001b[JDownloading VM image: fedora-coreos-36.20220703.2.1-qemu.aarch64.qcow2.xz  166.…\n",
      "\u001b[1A\u001b[JDownloading VM image: fedora-coreos-36.20220703.2.1-qemu.aarch64.qcow2.xz  172.…\n",
      "\u001b[1A\u001b[JDownloading VM image: fedora-coreos-36.20220703.2.1-qemu.aarch64.qcow2.xz  177.…\n",
      "\u001b[1A\u001b[JDownloading VM image: fedora-coreos-36.20220703.2.1-qemu.aarch64.qcow2.xz  183.…\n",
      "\u001b[1A\u001b[JDownloading VM image: fedora-coreos-36.20220703.2.1-qemu.aarch64.qcow2.xz  189.…\n",
      "\u001b[1A\u001b[JDownloading VM image: fedora-coreos-36.20220703.2.1-qemu.aarch64.qcow2.xz  194.…\n",
      "\u001b[1A\u001b[JDownloading VM image: fedora-coreos-36.20220703.2.1-qemu.aarch64.qcow2.xz  199.…\n",
      "\u001b[1A\u001b[JDownloading VM image: fedora-coreos-36.20220703.2.1-qemu.aarch64.qcow2.xz  200.…\n",
      "\u001b[1A\u001b[JDownloading VM image: fedora-coreos-36.20220703.2.1-qemu.aarch64.qcow2.xz  205.…\n",
      "\u001b[1A\u001b[JDownloading VM image: fedora-coreos-36.20220703.2.1-qemu.aarch64.qcow2.xz  210.…\n",
      "\u001b[1A\u001b[JDownloading VM image: fedora-coreos-36.20220703.2.1-qemu.aarch64.qcow2.xz  215.…\n",
      "\u001b[1A\u001b[JDownloading VM image: fedora-coreos-36.20220703.2.1-qemu.aarch64.qcow2.xz  221.…\n",
      "\u001b[1A\u001b[JDownloading VM image: fedora-coreos-36.20220703.2.1-qemu.aarch64.qcow2.xz  227.…\n",
      "\u001b[1A\u001b[JDownloading VM image: fedora-coreos-36.20220703.2.1-qemu.aarch64.qcow2.xz  232.…\n",
      "\u001b[1A\u001b[JDownloading VM image: fedora-coreos-36.20220703.2.1-qemu.aarch64.qcow2.xz  238.…\n",
      "\u001b[1A\u001b[JDownloading VM image: fedora-coreos-36.20220703.2.1-qemu.aarch64.qcow2.xz  243.…\n",
      "\u001b[1A\u001b[JDownloading VM image: fedora-coreos-36.20220703.2.1-qemu.aarch64.qcow2.xz  249.…\n",
      "\u001b[1A\u001b[JDownloading VM image: fedora-coreos-36.20220703.2.1-qemu.aarch64.qcow2.xz  255.…\n",
      "\u001b[1A\u001b[JDownloading VM image: fedora-coreos-36.20220703.2.1-qemu.aarch64.qcow2.xz  261.…\n",
      "\u001b[1A\u001b[JDownloading VM image: fedora-coreos-36.20220703.2.1-qemu.aarch64.qcow2.xz  266.…\n",
      "\u001b[1A\u001b[JDownloading VM image: fedora-coreos-36.20220703.2.1-qemu.aarch64.qcow2.xz  272.…\n",
      "\u001b[1A\u001b[JDownloading VM image: fedora-coreos-36.20220703.2.1-qemu.aarch64.qcow2.xz  278.…\n",
      "\u001b[1A\u001b[JDownloading VM image: fedora-coreos-36.20220703.2.1-qemu.aarch64.qcow2.xz  283.…\n",
      "\u001b[1A\u001b[JDownloading VM image: fedora-coreos-36.20220703.2.1-qemu.aarch64.qcow2.xz  289.…\n",
      "\u001b[1A\u001b[JDownloading VM image: fedora-coreos-36.20220703.2.1-qemu.aarch64.qcow2.xz  294.…\n",
      "\u001b[1A\u001b[JDownloading VM image: fedora-coreos-36.20220703.2.1-qemu.aarch64.qcow2.xz  300.…\n",
      "\u001b[1A\u001b[JDownloading VM image: fedora-coreos-36.20220703.2.1-qemu.aarch64.qcow2.xz  306.…\n",
      "\u001b[1A\u001b[JDownloading VM image: fedora-coreos-36.20220703.2.1-qemu.aarch64.qcow2.xz  312.…\n",
      "\u001b[1A\u001b[JDownloading VM image: fedora-coreos-36.20220703.2.1-qemu.aarch64.qcow2.xz  317.…\n",
      "\u001b[1A\u001b[JDownloading VM image: fedora-coreos-36.20220703.2.1-qemu.aarch64.qcow2.xz  323.…\n",
      "\u001b[1A\u001b[JDownloading VM image: fedora-coreos-36.20220703.2.1-qemu.aarch64.qcow2.xz  329.…\n",
      "\u001b[1A\u001b[JDownloading VM image: fedora-coreos-36.20220703.2.1-qemu.aarch64.qcow2.xz  335.…\n",
      "\u001b[1A\u001b[JDownloading VM image: fedora-coreos-36.20220703.2.1-qemu.aarch64.qcow2.xz  340.…\n",
      "\u001b[1A\u001b[JDownloading VM image: fedora-coreos-36.20220703.2.1-qemu.aarch64.qcow2.xz  346.…\n",
      "\u001b[1A\u001b[JDownloading VM image: fedora-coreos-36.20220703.2.1-qemu.aarch64.qcow2.xz  352.…\n",
      "\u001b[1A\u001b[JDownloading VM image: fedora-coreos-36.20220703.2.1-qemu.aarch64.qcow2.xz  358.…\n",
      "\u001b[1A\u001b[JDownloading VM image: fedora-coreos-36.20220703.2.1-qemu.aarch64.qcow2.xz  363.…\n",
      "\u001b[1A\u001b[JDownloading VM image: fedora-coreos-36.20220703.2.1-qemu.aarch64.qcow2.xz  369.…\n",
      "\u001b[1A\u001b[JDownloading VM image: fedora-coreos-36.20220703.2.1-qemu.aarch64.qcow2.xz  375.…\n",
      "\u001b[1A\u001b[JDownloading VM image: fedora-coreos-36.20220703.2.1-qemu.aarch64.qcow2.xz  380.…\n",
      "\u001b[1A\u001b[JDownloading VM image: fedora-coreos-36.20220703.2.1-qemu.aarch64.qcow2.xz  386.…\n",
      "\u001b[1A\u001b[JDownloading VM image: fedora-coreos-36.20220703.2.1-qemu.aarch64.qcow2.xz  391.…\n",
      "\u001b[1A\u001b[JDownloading VM image: fedora-coreos-36.20220703.2.1-qemu.aarch64.qcow2.xz  397.…\n",
      "\u001b[1A\u001b[JDownloading VM image: fedora-coreos-36.20220703.2.1-qemu.aarch64.qcow2.xz  403.…\n",
      "\u001b[1A\u001b[JDownloading VM image: fedora-coreos-36.20220703.2.1-qemu.aarch64.qcow2.xz  408.…\n",
      "\u001b[1A\u001b[JDownloading VM image: fedora-coreos-36.20220703.2.1-qemu.aarch64.qcow2.xz  414.…\n",
      "\u001b[1A\u001b[JDownloading VM image: fedora-coreos-36.20220703.2.1-qemu.aarch64.qcow2.xz  420.…\n",
      "\u001b[1A\u001b[JDownloading VM image: fedora-coreos-36.20220703.2.1-qemu.aarch64.qcow2.xz  425.…\n",
      "\u001b[1A\u001b[JDownloading VM image: fedora-coreos-36.20220703.2.1-qemu.aarch64.qcow2.xz  431.…\n",
      "\u001b[1A\u001b[JDownloading VM image: fedora-coreos-36.20220703.2.1-qemu.aarch64.qcow2.xz  437.…\n",
      "\u001b[1A\u001b[JDownloading VM image: fedora-coreos-36.20220703.2.1-qemu.aarch64.qcow2.xz  443.…\n",
      "\u001b[1A\u001b[JDownloading VM image: fedora-coreos-36.20220703.2.1-qemu.aarch64.qcow2.xz  449.…\n",
      "\u001b[1A\u001b[JDownloading VM image: fedora-coreos-36.20220703.2.1-qemu.aarch64.qcow2.xz  455.…\n",
      "\u001b[1A\u001b[JDownloading VM image: fedora-coreos-36.20220703.2.1-qemu.aarch64.qcow2.xz  460.…\n",
      "\u001b[1A\u001b[JDownloading VM image: fedora-coreos-36.20220703.2.1-qemu.aarch64.qcow2.xz  466.…\n",
      "\u001b[1A\u001b[JDownloading VM image: fedora-coreos-36.20220703.2.1-qemu.aarch64.qcow2.xz  472.…\n",
      "\u001b[1A\u001b[JDownloading VM image: fedora-coreos-36.20220703.2.1-qemu.aarch64.qcow2.xz  477.…\n",
      "\u001b[1A\u001b[JDownloading VM image: fedora-coreos-36.20220703.2.1-qemu.aarch64.qcow2.xz  483.…\n",
      "\u001b[1A\u001b[JDownloading VM image: fedora-coreos-36.20220703.2.1-qemu.aarch64.qcow2.xz  488.…\n",
      "\u001b[1A\u001b[JDownloading VM image: fedora-coreos-36.20220703.2.1-qemu.aarch64.qcow2.xz  494.…\n",
      "\u001b[1A\u001b[JDownloading VM image: fedora-coreos-36.20220703.2.1-qemu.aarch64.qcow2.xz  499.…\n",
      "\u001b[1A\u001b[JDownloading VM image: fedora-coreos-36.20220703.2.1-qemu.aarch64.qcow2.xz  505.…\n",
      "\u001b[1A\u001b[JDownloading VM image: fedora-coreos-36.20220703.2.1-qemu.aarch64.qcow2.xz  510.…\n",
      "\u001b[1A\u001b[JDownloading VM image: fedora-coreos-36.20220703.2.1-qemu.aarch64.qcow2.xz  516.…\n",
      "\u001b[1A\u001b[JDownloading VM image: fedora-coreos-36.20220703.2.1-qemu.aarch64.qcow2.xz  522.…\n",
      "\u001b[1A\u001b[JDownloading VM image: fedora-coreos-36.20220703.2.1-qemu.aarch64.qcow2.xz  528.…\n",
      "\u001b[1A\u001b[JDownloading VM image: fedora-coreos-36.20220703.2.1-qemu.aarch64.qcow2.xz  534.…\n",
      "\u001b[1A\u001b[JDownloading VM image: fedora-coreos-36.20220703.2.1-qemu.aarch64.qcow2.xz  539.…\n",
      "\u001b[1A\u001b[JDownloading VM image: fedora-coreos-36.20220703.2.1-qemu.aarch64.qcow2.xz  545.…\n",
      "\u001b[1A\u001b[JDownloading VM image: fedora-coreos-36.20220703.2.1-qemu.aarch64.qcow2.xz  551.…\n",
      "\u001b[1A\u001b[JDownloading VM image: fedora-coreos-36.20220703.2.1-qemu.aarch64.qcow2.xz  557.…\n",
      "\u001b[1A\u001b[JDownloading VM image: fedora-coreos-36.20220703.2.1-qemu.aarch64.qcow2.xz  562.…\n",
      "\u001b[1A\u001b[JDownloading VM image: fedora-coreos-36.20220703.2.1-qemu.aarch64.qcow2.xz  568.…\n",
      "\u001b[1A\u001b[JDownloading VM image: fedora-coreos-36.20220703.2.1-qemu.aarch64.qcow2.xz  573.…\n",
      "\u001b[1A\u001b[JDownloading VM image: fedora-coreos-36.20220703.2.1-qemu.aarch64.qcow2.xz  579.…\n",
      "\u001b[1A\u001b[JDownloading VM image: fedora-coreos-36.20220703.2.1-qemu.aarch64.qcow2.xz  585.…\n",
      "\u001b[1A\u001b[JDownloading VM image: fedora-coreos-36.20220703.2.1-qemu.aarch64.qcow2.xz: done\n",
      "Extracting compressed file\n",
      "Image resized.\n",
      "Machine init complete\n",
      "To start your machine run:\n",
      "\n",
      "\tpodman machine start\n",
      "\n",
      "\u001b[?2004h"
     ]
    },
    {
     "ename": "",
     "evalue": "1",
     "output_type": "error",
     "traceback": []
    }
   ],
   "source": [
    "podman machine init"
   ]
  },
  {
   "cell_type": "code",
   "execution_count": 11,
   "metadata": {
    "vscode": {
     "languageId": "shellscript"
    }
   },
   "outputs": [
    {
     "name": "stdout",
     "output_type": "stream",
     "text": [
      "Starting machine \"podman-machine-default\"\n",
      "Waiting for VM ...\n",
      "Mounting volume... /Users/guillem.riera:/Users/guillem.riera\n",
      "bash: warning: setlocale: LC_ALL: cannot change locale (en_US.UTF-8)\n",
      "/usr/bin/sh: warning: setlocale: LC_ALL: cannot change locale (en_US.UTF-8)\n",
      "/usr/bin/sh: warning: setlocale: LC_ALL: cannot change locale (en_US.UTF-8)\n",
      "/usr/bin/sh: warning: setlocale: LC_ALL: cannot change locale (en_US.UTF-8)\n",
      "bash: warning: setlocale: LC_ALL: cannot change locale (en_US.UTF-8)\n",
      "/usr/bin/sh: warning: setlocale: LC_ALL: cannot change locale (en_US.UTF-8)\n",
      "/usr/bin/sh: warning: setlocale: LC_ALL: cannot change locale (en_US.UTF-8)\n",
      "/usr/bin/sh: warning: setlocale: LC_ALL: cannot change locale (en_US.UTF-8)\n",
      "\n",
      "This machine is currently configured in rootless mode. If your containers\n",
      "require root permissions (e.g. ports < 1024), or if you run into compatibility\n",
      "issues with non-podman clients, you can switch using the following command: \n",
      "\n",
      "\tpodman machine set --rootful\n",
      "\n",
      "API forwarding listening on: /var/run/docker.sock\n",
      "Docker API clients default to this address. You do not need to set DOCKER_HOST.\n",
      "\n",
      "Machine \"podman-machine-default\" started successfully\n",
      "\u001b[?2004h"
     ]
    },
    {
     "ename": "",
     "evalue": "1",
     "output_type": "error",
     "traceback": []
    }
   ],
   "source": [
    "# Start Machine\n",
    "\n",
    "podman machine start"
   ]
  },
  {
   "cell_type": "code",
   "execution_count": 13,
   "metadata": {
    "vscode": {
     "languageId": "shellscript"
    }
   },
   "outputs": [
    {
     "name": "stdout",
     "output_type": "stream",
     "text": [
      "NAME                     VM TYPE     CREATED        LAST UP            CPUS        MEMORY      DISK SIZE\n",
      "podman-machine-default*  qemu        4 minutes ago  Currently running  1           2.147GB     107.4GB\n",
      "\u001b[?2004h"
     ]
    },
    {
     "ename": "",
     "evalue": "1",
     "output_type": "error",
     "traceback": []
    }
   ],
   "source": [
    "# List Machines\n",
    "podman machine list"
   ]
  },
  {
   "cell_type": "code",
   "execution_count": 14,
   "metadata": {
    "vscode": {
     "languageId": "shellscript"
    }
   },
   "outputs": [
    {
     "name": "stdout",
     "output_type": "stream",
     "text": [
      "Machine \"podman-machine-default\" stopped successfully\n",
      "\u001b[?2004h"
     ]
    },
    {
     "ename": "",
     "evalue": "1",
     "output_type": "error",
     "traceback": []
    }
   ],
   "source": [
    "# Stop a machine\n",
    "\n",
    "podman machine stop"
   ]
  },
  {
   "cell_type": "code",
   "execution_count": 15,
   "metadata": {
    "vscode": {
     "languageId": "shellscript"
    }
   },
   "outputs": [
    {
     "name": "stdout",
     "output_type": "stream",
     "text": [
      "Starting machine \"podman-machine-default\"\n",
      "Waiting for VM ...\n",
      "Mounting volume... /Users/guillem.riera:/Users/guillem.riera\n",
      "bash: warning: setlocale: LC_ALL: cannot change locale (en_US.UTF-8)\n",
      "/usr/bin/sh: warning: setlocale: LC_ALL: cannot change locale (en_US.UTF-8)\n",
      "/usr/bin/sh: warning: setlocale: LC_ALL: cannot change locale (en_US.UTF-8)\n",
      "/usr/bin/sh: warning: setlocale: LC_ALL: cannot change locale (en_US.UTF-8)\n",
      "bash: warning: setlocale: LC_ALL: cannot change locale (en_US.UTF-8)\n",
      "/usr/bin/sh: warning: setlocale: LC_ALL: cannot change locale (en_US.UTF-8)\n",
      "/usr/bin/sh: warning: setlocale: LC_ALL: cannot change locale (en_US.UTF-8)\n",
      "/usr/bin/sh: warning: setlocale: LC_ALL: cannot change locale (en_US.UTF-8)\n",
      "\n",
      "This machine is currently configured in rootless mode. If your containers\n",
      "require root permissions (e.g. ports < 1024), or if you run into compatibility\n",
      "issues with non-podman clients, you can switch using the following command: \n",
      "\n",
      "\tpodman machine set --rootful\n",
      "\n",
      "API forwarding listening on: /var/run/docker.sock\n",
      "Docker API clients default to this address. You do not need to set DOCKER_HOST.\n",
      "\n",
      "Machine \"podman-machine-default\" started successfully\n",
      "\u001b[?2004h"
     ]
    },
    {
     "ename": "",
     "evalue": "1",
     "output_type": "error",
     "traceback": []
    }
   ],
   "source": [
    "# Start a stopped machine\n",
    "podman machine start"
   ]
  },
  {
   "cell_type": "code",
   "execution_count": 16,
   "metadata": {
    "vscode": {
     "languageId": "shellscript"
    }
   },
   "outputs": [
    {
     "name": "stdout",
     "output_type": "stream",
     "text": [
      "Machine \"podman-machine-default\" stopped successfully\n",
      "\u001b[?2004h"
     ]
    },
    {
     "ename": "",
     "evalue": "1",
     "output_type": "error",
     "traceback": []
    }
   ],
   "source": [
    "# Destroy an existing machine (1/2)\n",
    "\n",
    "# Stop first\n",
    "\n",
    "podman machine stop"
   ]
  },
  {
   "cell_type": "code",
   "execution_count": 20,
   "metadata": {
    "vscode": {
     "languageId": "shellscript"
    }
   },
   "outputs": [
    {
     "name": "stdout",
     "output_type": "stream",
     "text": [
      "\u001b[?2004h\u001b[?2004l\u001b[?2004l\u001b[?2004l\u001b[?2004l"
     ]
    },
    {
     "ename": "",
     "evalue": "1",
     "output_type": "error",
     "traceback": []
    }
   ],
   "source": [
    "# Destroy an existing machine (2/2)\n",
    "\n",
    "# Then delete\n",
    "\n",
    "podman machine rm --force"
   ]
  },
  {
   "cell_type": "markdown",
   "metadata": {},
   "source": [
    "## Podman Custom Setup\n",
    "\n",
    "It is possible to customize the machine's size (CPU, Memory, Disk and \"_Rootfulness_\").\n",
    "\n",
    "For example, if we want to run a big number of containers or containers that need a lot of resources (like a full _minikube_ container) we can add several flags to obtain a bigger podman machine:"
   ]
  },
  {
   "cell_type": "code",
   "execution_count": 21,
   "metadata": {
    "vscode": {
     "languageId": "shellscript"
    }
   },
   "outputs": [
    {
     "name": "stdout",
     "output_type": "stream",
     "text": [
      "Extracting compressed file\n",
      "Image resized.\n",
      "Machine init complete\n",
      "To start your machine run:\n",
      "\n",
      "\tpodman machine start\n",
      "\n",
      "\u001b[?2004h"
     ]
    },
    {
     "ename": "",
     "evalue": "1",
     "output_type": "error",
     "traceback": []
    }
   ],
   "source": [
    "podman machine init --cpus 2 --memory 8192 --rootful"
   ]
  },
  {
   "cell_type": "code",
   "execution_count": 22,
   "metadata": {
    "vscode": {
     "languageId": "shellscript"
    }
   },
   "outputs": [
    {
     "name": "stdout",
     "output_type": "stream",
     "text": [
      "NAME                    VM TYPE     CREATED        LAST UP        CPUS        MEMORY      DISK SIZE\n",
      "podman-machine-default  qemu        2 minutes ago  2 minutes ago  2           8.59GB      107.4GB\n",
      "\u001b[?2004h"
     ]
    },
    {
     "ename": "",
     "evalue": "1",
     "output_type": "error",
     "traceback": []
    }
   ],
   "source": [
    "# List Machines\n",
    "podman machine ls"
   ]
  },
  {
   "cell_type": "markdown",
   "metadata": {},
   "source": [
    "# Ensure proper functioning with QEMU 7 under macOS Apple Silicon M1 / M2 Processors\n",
    "\n",
    "If you happen to have trouble with Apple Silicon processors chances are that a QEMU config generator made the wrong assumptions about the target CPU of the VM.\n",
    "\n",
    "You can read this short article about it if you are interested in the details:\n",
    "\n",
    "https://medium.com/@guillem.riera/podman-on-macos-m1-qemu-7-e9225ffa3453\n",
    "\n",
    "Running this commands can solve this issue:"
   ]
  },
  {
   "cell_type": "code",
   "execution_count": 5,
   "metadata": {
    "vscode": {
     "languageId": "shellscript"
    }
   },
   "outputs": [],
   "source": [
    "# Solving problems with Apple Silicon M1/M2 Processors and QEMU\n",
    "\n",
    "# NOTE: Do not run this in Jupyter, use the terminal instead, or else you will get an error \"sed: -I or -i may not be used with stdin\"\n",
    "\n",
    "# After $(podman init)\n",
    "# Obtain the PODMAN_MACHINE name\n",
    "# This will get the default one, set this value if you need another\n",
    "export PODMAN_MACHINE=$(podman machine list -q --format '{{.Name}}')\n",
    "sed -e 's/cortex-a57/host/g' -e 's/highmem=off/highmem=on/g' -i \"\"  $HOME/.config/containers/podman/machine/qemu/$PODMAN_MACHINE.json\n"
   ]
  }
 ],
 "metadata": {
  "kernelspec": {
   "display_name": "Bash",
   "language": "bash",
   "name": "bash"
  },
  "language_info": {
   "codemirror_mode": "shell",
   "file_extension": ".sh",
   "mimetype": "text/x-sh",
   "name": "bash"
  }
 },
 "nbformat": 4,
 "nbformat_minor": 2
}
