{
 "cells": [
  {
   "cell_type": "markdown",
   "metadata": {},
   "source": [
    "# Bonus Lecture: Building and Pushing images to Minikube's Registry\n",
    "\n",
    "In some scenarios you might require to build images locally. \n",
    "If you need to make those images available locally for local Kubernetes development / testing / deployments, a registry is required.\n",
    "\n",
    "The best solution is to use a fully secure and qualified registry, though for testing it is possibe to get an insecure registry out of minikube and use that as the registry for both local development on the developer's machine and in minikubes' kubernetes.\n",
    "\n",
    "The method consists in:\n",
    "\n",
    "1. Enable the registry as a minikube add-on\n",
    "1. Forward the port locally from the Pod to the developer's machine, so that it is available as `localhost:5000` (the default docker accepted insecure registry)\n",
    "1. Configure the registry as insecure for Podman\n",
    "1. Reverse-forward the port from the mac to the podman machine with SSH"
   ]
  },
  {
   "cell_type": "code",
   "execution_count": 1,
   "metadata": {
    "vscode": {
     "languageId": "shellscript"
    }
   },
   "outputs": [
    {
     "name": "stdout",
     "output_type": "stream",
     "text": [
      "\u001b[31m╭──────────────────────────────────────────────────────────────────────────────────────────────────────╮\u001b[0m\n",
      "\u001b[31m│\u001b[0m                                                                                                      \u001b[31m│\u001b[0m\n",
      "\u001b[31m│\u001b[0m    Registry addon with podman driver uses port 32787 please use that instead of default port 5000    \u001b[31m│\u001b[0m\n",
      "\u001b[31m│\u001b[0m                                                                                                      \u001b[31m│\u001b[0m\n",
      "\u001b[31m╰──────────────────────────────────────────────────────────────────────────────────────────────────────╯\u001b[0m\n",
      "📘  For more information see: https://minikube.sigs.k8s.io/docs/drivers/podman\n",
      "    ▪ Using image registry:2.7.1\n",
      "    ▪ Using image gcr.io/google_containers/kube-registry-proxy:0.4\n",
      "🔎  Verifying registry addon...\n",
      "🌟  The 'registry' addon is enabled\n",
      "\u001b[?2004h"
     ]
    },
    {
     "ename": "",
     "evalue": "1",
     "output_type": "error",
     "traceback": []
    }
   ],
   "source": [
    "minikube addons enable registry"
   ]
  },
  {
   "cell_type": "code",
   "execution_count": 2,
   "metadata": {
    "vscode": {
     "languageId": "shellscript"
    }
   },
   "outputs": [
    {
     "name": "stdout",
     "output_type": "stream",
     "text": [
      "\u001b[?2004h"
     ]
    },
    {
     "ename": "",
     "evalue": "1",
     "output_type": "error",
     "traceback": []
    }
   ],
   "source": [
    "export REGISTRY_POD=$(kubectl -n kube-system get pods | awk '/registry-proxy/{ print $1 }')"
   ]
  },
  {
   "cell_type": "code",
   "execution_count": 3,
   "metadata": {
    "vscode": {
     "languageId": "shellscript"
    }
   },
   "outputs": [
    {
     "name": "stdout",
     "output_type": "stream",
     "text": [
      "registry-proxy-ghj8w\n",
      "\u001b[?2004h"
     ]
    },
    {
     "ename": "",
     "evalue": "1",
     "output_type": "error",
     "traceback": []
    }
   ],
   "source": [
    "echo $REGISTRY_POD"
   ]
  },
  {
   "cell_type": "code",
   "execution_count": 4,
   "metadata": {
    "vscode": {
     "languageId": "shellscript"
    }
   },
   "outputs": [
    {
     "name": "stdout",
     "output_type": "stream",
     "text": [
      "[1] 17580\n",
      "\u001b[?2004h"
     ]
    },
    {
     "ename": "",
     "evalue": "1",
     "output_type": "error",
     "traceback": []
    }
   ],
   "source": [
    "kubectl -n kube-system port-forward --address localhost pods/${REGISTRY_POD} 5000:80 &"
   ]
  },
  {
   "cell_type": "markdown",
   "metadata": {},
   "source": [
    "## Configure the local registries to add the insecure localhost:5000\n",
    "\n",
    "```\n",
    "cat ~/.config/containers/registries.conf\n",
    "\n",
    "[[registry]]\n",
    "location=\"localhost:5000\"\n",
    "insecure=true\n",
    "```"
   ]
  },
  {
   "cell_type": "markdown",
   "metadata": {},
   "source": [
    "## Configure Podman's registries to add the insecure localhost:5000\n",
    "\n",
    "```\n",
    "podman machine ssh\n",
    "\n",
    "[root@localhost ~]# cat /etc/containers/registries.conf.d/100-insecure-localhost.conf \n",
    "[[registry]]\n",
    "location=\"localhost:5000\"\n",
    "insecure=true\n",
    "```\n"
   ]
  },
  {
   "cell_type": "code",
   "execution_count": 1,
   "metadata": {
    "vscode": {
     "languageId": "shellscript"
    }
   },
   "outputs": [
    {
     "name": "stdout",
     "output_type": "stream",
     "text": [
      "podman-machine-default\n"
     ]
    }
   ],
   "source": [
    "export PODMAN_MACHINE_NAME=$(podman machine list -q --format '{{.Name}}')\n",
    "echo $PODMAN_MACHINE_NAME"
   ]
  },
  {
   "cell_type": "code",
   "execution_count": 2,
   "metadata": {
    "vscode": {
     "languageId": "shellscript"
    }
   },
   "outputs": [
    {
     "name": "stdout",
     "output_type": "stream",
     "text": [
      "/Users/guillem.riera/.ssh/podman-machine-default\n"
     ]
    }
   ],
   "source": [
    "export PODMAN_SSH_KEY=$(podman system connection list | grep \"${PODMAN_MACHINE_NAME}\" | awk '{ print $3 }' | sort | uniq)\n",
    "echo $PODMAN_SSH_KEY"
   ]
  },
  {
   "cell_type": "code",
   "execution_count": 3,
   "metadata": {
    "vscode": {
     "languageId": "shellscript"
    }
   },
   "outputs": [
    {
     "name": "stdout",
     "output_type": "stream",
     "text": [
      "ssh://root@localhost:50828/run/podman/podman.sock\n"
     ]
    }
   ],
   "source": [
    "export PODMAN_URI=$(podman system connection list | grep root | grep \"${PODMAN_MACHINE_NAME}\" | awk '{ print $2 }' | sort | uniq)\n",
    "echo $PODMAN_URI"
   ]
  },
  {
   "cell_type": "code",
   "execution_count": 4,
   "metadata": {
    "vscode": {
     "languageId": "shellscript"
    }
   },
   "outputs": [
    {
     "name": "stdout",
     "output_type": "stream",
     "text": [
      "50828\n"
     ]
    }
   ],
   "source": [
    "export PODMAN_PORT=$(echo $PODMAN_URI | sed -e 's|ssh://\\(.*\\)@\\(.*\\):\\([0-9]*\\)/\\(.*\\)|\\3|g')\n",
    "echo $PODMAN_PORT"
   ]
  },
  {
   "cell_type": "code",
   "execution_count": 5,
   "metadata": {
    "vscode": {
     "languageId": "shellscript"
    }
   },
   "outputs": [
    {
     "name": "stdout",
     "output_type": "stream",
     "text": [
      "root\n"
     ]
    }
   ],
   "source": [
    "export PODMAN_USER=$(echo $PODMAN_URI | sed -e 's|ssh://\\(.*\\)@\\(.*\\):\\([0-9]*\\)/\\(.*\\)|\\1|g')\n",
    "\n",
    "echo \"$PODMAN_USER\""
   ]
  },
  {
   "cell_type": "code",
   "execution_count": 6,
   "metadata": {
    "vscode": {
     "languageId": "shellscript"
    }
   },
   "outputs": [
    {
     "name": "stdout",
     "output_type": "stream",
     "text": [
      "localhost\n"
     ]
    }
   ],
   "source": [
    "export PODMAN_HOSTNAME=$(echo $PODMAN_URI | sed -e 's|ssh://\\(.*\\)@\\(.*\\):\\([0-9]*\\)/\\(.*\\)|\\2|g')\n",
    "echo $PODMAN_HOSTNAME"
   ]
  },
  {
   "cell_type": "code",
   "execution_count": 20,
   "metadata": {
    "vscode": {
     "languageId": "shellscript"
    }
   },
   "outputs": [
    {
     "name": "stdout",
     "output_type": "stream",
     "text": [
      "Warning: Permanently added '[localhost]:50828' (ED25519) to the list of known hosts.\n",
      "\u001b[?2004h"
     ]
    },
    {
     "ename": "",
     "evalue": "1",
     "output_type": "error",
     "traceback": []
    }
   ],
   "source": [
    "export REGISTRY_PORT=5000\n",
    "ssh -i $PODMAN_SSH_KEY -p $PODMAN_PORT ${PODMAN_USER}@${PODMAN_HOSTNAME} -o UserKnownHostsFile=/dev/null -o StrictHostKeyChecking=no -f -N -T -R ${REGISTRY_PORT}:localhost:${REGISTRY_PORT}"
   ]
  },
  {
   "cell_type": "markdown",
   "metadata": {},
   "source": [
    "## Building and Tagging images properly\n",
    "\n",
    "Now it is necessary to tag the image to target this registry properly.\n"
   ]
  },
  {
   "cell_type": "code",
   "execution_count": 21,
   "metadata": {
    "vscode": {
     "languageId": "shellscript"
    }
   },
   "outputs": [
    {
     "name": "stdout",
     "output_type": "stream",
     "text": [
      "STEP 1/2: FROM httpd:2.4\n",
      "STEP 2/2: COPY src/index.html /usr/local/apache2/htdocs/index.html\n",
      "--> Using cache 0f73b88b47dcbdeb6fc35e3b7e193cb54d4cd582519304be864eeca992aa3e22\n",
      "COMMIT localhost:5000/httpd:podman\n",
      "--> 0f73b88b47d\n",
      "Successfully tagged localhost:5000/httpd:podman\n",
      "0f73b88b47dcbdeb6fc35e3b7e193cb54d4cd582519304be864eeca992aa3e22\n",
      "\u001b[?2004h"
     ]
    },
    {
     "ename": "",
     "evalue": "1",
     "output_type": "error",
     "traceback": []
    }
   ],
   "source": [
    "podman build -t localhost:5000/httpd:podman build-and-deploy"
   ]
  },
  {
   "cell_type": "code",
   "execution_count": 22,
   "metadata": {
    "vscode": {
     "languageId": "shellscript"
    }
   },
   "outputs": [
    {
     "name": "stdout",
     "output_type": "stream",
     "text": [
      "\u001b[?2004h"
     ]
    },
    {
     "ename": "",
     "evalue": "1",
     "output_type": "error",
     "traceback": []
    }
   ],
   "source": [
    "podman push localhost:5000/httpd:podman"
   ]
  },
  {
   "cell_type": "code",
   "execution_count": 23,
   "metadata": {
    "vscode": {
     "languageId": "shellscript"
    }
   },
   "outputs": [
    {
     "name": "stdout",
     "output_type": "stream",
     "text": [
      "Warning: Permanently added '[localhost]:50828' (ED25519) to the list of known hosts.\n",
      "bash: warning: setlocale: LC_ALL: cannot change locale (en_US.UTF-8)\n",
      "/usr/bin/sh: warning: setlocale: LC_ALL: cannot change locale (en_US.UTF-8)\n",
      "/usr/bin/sh: warning: setlocale: LC_ALL: cannot change locale (en_US.UTF-8)\n",
      "/usr/bin/sh: warning: setlocale: LC_ALL: cannot change locale (en_US.UTF-8)\n",
      "*   Trying 127.0.0.1:5000...\n",
      "  % Total    % Received % Xferd  Average Speed   Time    Time     Time  Current\n",
      "                                 Dload  Upload   Total   Spent    Left  Speed\n",
      "  0     0    0     0    0     0      0      0 --:--:-- --:--:-- --:--:--     0* Connected to localhost (127.0.0.1) port 5000 (#0)\n",
      "> GET /v2/_catalog HTTP/1.1\n",
      "> Host: localhost:5000\n",
      "> User-Agent: curl/7.82.0\n",
      "> Accept: */*\n",
      "> \n",
      "* Mark bundle as not supporting multiuse\n",
      "< HTTP/1.1 200 OK\n",
      "< Server: nginx/1.11.8\n",
      "< Date: Tue, 26 Jul 2022 13:52:21 GMT\n",
      "< Content-Type: application/json; charset=utf-8\n",
      "< Content-Length: 27\n",
      "< Connection: keep-alive\n",
      "< Docker-Distribution-Api-Version: registry/2.0\n",
      "< X-Content-Type-Options: nosniff\n",
      "< \n",
      "{ [27 bytes data]\n",
      "100    27  100    27    0     0   2074      0 --:--:-- --:--:-- --:--:--  2250\n",
      "* Connection #0 to host localhost left intact\n",
      "{\"repositories\":[\"httpd\"]}\n",
      "\u001b[?2004h"
     ]
    },
    {
     "ename": "",
     "evalue": "1",
     "output_type": "error",
     "traceback": []
    }
   ],
   "source": [
    "# Check in podman that the registry is properly forwarded by querying the API Catalog\n",
    "\n",
    "podman machine ssh 'curl -v localhost:5000/v2/_catalog'"
   ]
  },
  {
   "cell_type": "code",
   "execution_count": 24,
   "metadata": {
    "vscode": {
     "languageId": "shellscript"
    }
   },
   "outputs": [
    {
     "name": "stdout",
     "output_type": "stream",
     "text": [
      "pod/httpd-podman created\n",
      "\u001b[?2004h"
     ]
    },
    {
     "ename": "",
     "evalue": "1",
     "output_type": "error",
     "traceback": []
    }
   ],
   "source": [
    "kubectl run httpd-podman --image localhost:5000/httpd:podman --port 80"
   ]
  },
  {
   "cell_type": "code",
   "execution_count": 25,
   "metadata": {
    "vscode": {
     "languageId": "shellscript"
    }
   },
   "outputs": [
    {
     "name": "stdout",
     "output_type": "stream",
     "text": [
      "[1] 19527\n",
      "\u001b[?2004h"
     ]
    },
    {
     "ename": "",
     "evalue": "1",
     "output_type": "error",
     "traceback": []
    }
   ],
   "source": [
    "kubectl port-forward pods/httpd-podman 8081:80 &"
   ]
  },
  {
   "cell_type": "code",
   "execution_count": 26,
   "metadata": {
    "vscode": {
     "languageId": "shellscript"
    }
   },
   "outputs": [
    {
     "name": "stdout",
     "output_type": "stream",
     "text": [
      "Forwarding from 127.0.0.1:8081 -> 80\n",
      "Forwarding from [::1]:8081 -> 80\n",
      "Handling connection for 8081\n",
      "Built with Podman\n",
      "\u001b[?2004h"
     ]
    },
    {
     "ename": "",
     "evalue": "1",
     "output_type": "error",
     "traceback": []
    }
   ],
   "source": [
    "curl -s localhost:8081"
   ]
  },
  {
   "cell_type": "markdown",
   "metadata": {},
   "source": [
    "## Cleanup"
   ]
  },
  {
   "cell_type": "code",
   "execution_count": 30,
   "metadata": {
    "vscode": {
     "languageId": "shellscript"
    }
   },
   "outputs": [
    {
     "name": "stdout",
     "output_type": "stream",
     "text": [
      "\u001b[?2004h\u001b[?2004l"
     ]
    },
    {
     "ename": "",
     "evalue": "1",
     "output_type": "error",
     "traceback": []
    }
   ],
   "source": [
    "KUBE_FORWARD=$(ps -ef | grep kubectl | grep 8081 | awk '{ print $2 }')\n",
    "if [[ ! -z $KUBE_FORWARD ]]; then kill -KILL $KUBE_FORWARD; fi"
   ]
  },
  {
   "cell_type": "code",
   "execution_count": 31,
   "metadata": {
    "vscode": {
     "languageId": "shellscript"
    }
   },
   "outputs": [
    {
     "name": "stdout",
     "output_type": "stream",
     "text": [
      "\u001b[?2004h\u001b[?2004l"
     ]
    },
    {
     "ename": "",
     "evalue": "1",
     "output_type": "error",
     "traceback": []
    }
   ],
   "source": [
    "KUBE_FORWARD=$(ps -ef | grep kubectl | grep $REGISTRY_PORT | awk '{ print $2 }')\n",
    "if [[ ! -z $KUBE_FORWARD ]]; then kill -KILL $KUBE_FORWARD; fi"
   ]
  },
  {
   "cell_type": "code",
   "execution_count": 32,
   "metadata": {
    "vscode": {
     "languageId": "shellscript"
    }
   },
   "outputs": [
    {
     "name": "stdout",
     "output_type": "stream",
     "text": [
      "\u001b[?2004h\u001b[?2004l"
     ]
    },
    {
     "ename": "",
     "evalue": "1",
     "output_type": "error",
     "traceback": []
    }
   ],
   "source": [
    "SSH_REVERSE_FORWARD=$(ps -ef | grep ssh | grep $REGISTRY_PORT | awk '{ print $2 }')\n",
    "if [[ ! -z $SSH_REVERSE_FORWARD ]]; then kill -KILL $SSH_REVERSE_FORWARD; fi"
   ]
  }
 ],
 "metadata": {
  "kernelspec": {
   "display_name": "Bash",
   "language": "bash",
   "name": "bash"
  },
  "language_info": {
   "codemirror_mode": "shell",
   "file_extension": ".sh",
   "mimetype": "text/x-sh",
   "name": "bash"
  }
 },
 "nbformat": 4,
 "nbformat_minor": 2
}
