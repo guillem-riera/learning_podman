{
 "cells": [
  {
   "cell_type": "markdown",
   "metadata": {},
   "source": [
    "# Podman First Steps\n",
    "\n",
    "Podman stands for Pod Manager (more on Pods later in Chapter 4).\n",
    "\n",
    "Podman can be controlled over its API, using either REST over HTTP/S or Socket (those methods are called transports).\n",
    "\n",
    "If you are comfortable using Docker then you'll find yourself at home using Podman's API, as it is compatible.\n",
    "\n",
    "Even the CLI uses the exact same format and verbs as Docker."
   ]
  },
  {
   "cell_type": "markdown",
   "metadata": {},
   "source": [
    "## Running Containers\n",
    "\n",
    "Let's pull and run a web server (nginx) container:"
   ]
  },
  {
   "cell_type": "code",
   "execution_count": 1,
   "metadata": {
    "vscode": {
     "languageId": "shellscript"
    }
   },
   "outputs": [
    {
     "name": "stdout",
     "output_type": "stream",
     "text": [
      "Trying to pull docker.io/library/nginx:latest...\n",
      "Getting image source signatures\n",
      "Copying blob sha256:ffd8ca24cbfe81fd4f8b342b0f8ef7918e26f01d33c7cf707b8bcd6181ef0b36\n",
      "Copying blob sha256:ffd8ca24cbfe81fd4f8b342b0f8ef7918e26f01d33c7cf707b8bcd6181ef0b36\n",
      "Copying blob sha256:60197a4c18d4b386d371cf39d01c48e98c357bba06da0b070a3c1f75006fd838\n",
      "Copying blob sha256:9165df2e005e2c19f864ca86c031cc83376298dc4dfa2507bcae84c5611ff055\n",
      "Copying blob sha256:b256ad6ff1efd2f82c0b1fd46e1138072929d8983116ab05f2ae6f02cdfda611\n",
      "Copying blob sha256:8d709bf60afdda8d93d24bc5bad0adf974f453db2daf8172cc102fcfead7974c\n",
      "Copying blob sha256:1d2347fdb4adb624a4d2f59cce39525f18ecc3a64c85db84c17f10f84ee03964\n",
      "Copying blob sha256:1d2347fdb4adb624a4d2f59cce39525f18ecc3a64c85db84c17f10f84ee03964\n",
      "Copying blob sha256:9165df2e005e2c19f864ca86c031cc83376298dc4dfa2507bcae84c5611ff055\n",
      "Copying blob sha256:b256ad6ff1efd2f82c0b1fd46e1138072929d8983116ab05f2ae6f02cdfda611\n",
      "Copying blob sha256:8d709bf60afdda8d93d24bc5bad0adf974f453db2daf8172cc102fcfead7974c\n",
      "Copying config sha256:fd2d3e51789eafe943eec792c81e5297ae23570f2a24ed239118f3226e74a1cc\n",
      "Writing manifest to image destination\n",
      "Storing signatures\n",
      "517daf73af7c9d7384f0efdf38e3ba0543b95e6d91dadec64bd540736b807357\n"
     ]
    }
   ],
   "source": [
    "podman run -d --name nginx-test-on-podman -p 8080:80 docker.io/library/nginx:latest"
   ]
  },
  {
   "cell_type": "markdown",
   "metadata": {},
   "source": [
    "## Testing the Seamless Port-Forwarding\n",
    "\n",
    "Podman forwards the ports from the Podman machine seamlessly to the host.\n",
    "This means that the port 8080 from the previous example is open for connection on the `localhost` and forwards the request to the port 80 on the container."
   ]
  },
  {
   "cell_type": "code",
   "execution_count": 2,
   "metadata": {
    "vscode": {
     "languageId": "shellscript"
    }
   },
   "outputs": [
    {
     "name": "stdout",
     "output_type": "stream",
     "text": [
      "*   Trying 127.0.0.1:8080...\n",
      "* Connected to localhost (127.0.0.1) port 8080 (#0)\n",
      "> GET / HTTP/1.1\n",
      "> Host: localhost:8080\n",
      "> User-Agent: curl/7.79.1\n",
      "> Accept: */*\n",
      "> \n",
      "* Mark bundle as not supporting multiuse\n",
      "< HTTP/1.1 200 OK\n",
      "< Server: nginx/1.23.1\n",
      "< Date: Tue, 26 Jul 2022 15:57:04 GMT\n",
      "< Content-Type: text/html\n",
      "< Content-Length: 615\n",
      "< Last-Modified: Tue, 19 Jul 2022 14:05:27 GMT\n",
      "< Connection: keep-alive\n",
      "< ETag: \"62d6ba27-267\"\n",
      "< Accept-Ranges: bytes\n",
      "< \n",
      "<!DOCTYPE html>\n",
      "<html>\n",
      "<head>\n",
      "<title>Welcome to nginx!</title>\n",
      "<style>\n",
      "html { color-scheme: light dark; }\n",
      "body { width: 35em; margin: 0 auto;\n",
      "font-family: Tahoma, Verdana, Arial, sans-serif; }\n",
      "</style>\n",
      "</head>\n",
      "<body>\n",
      "<h1>Welcome to nginx!</h1>\n",
      "<p>If you see this page, the nginx web server is successfully installed and\n",
      "working. Further configuration is required.</p>\n",
      "\n",
      "<p>For online documentation and support please refer to\n",
      "<a href=\"http://nginx.org/\">nginx.org</a>.<br/>\n",
      "Commercial support is available at\n",
      "<a href=\"http://nginx.com/\">nginx.com</a>.</p>\n",
      "\n",
      "<p><em>Thank you for using nginx.</em></p>\n",
      "</body>\n",
      "</html>\n",
      "* Connection #0 to host localhost left intact\n"
     ]
    }
   ],
   "source": [
    "curl -v http://localhost:8080"
   ]
  },
  {
   "cell_type": "markdown",
   "metadata": {},
   "source": [
    "## Listing Containers"
   ]
  },
  {
   "cell_type": "code",
   "execution_count": 3,
   "metadata": {
    "vscode": {
     "languageId": "shellscript"
    }
   },
   "outputs": [
    {
     "name": "stdout",
     "output_type": "stream",
     "text": [
      "CONTAINER ID  IMAGE                                COMMAND               CREATED         STATUS             PORTS                                                                                                                       NAMES\n",
      "5013a0794fd7  gcr.io/k8s-minikube/kicbase:v0.0.32                        4 hours ago     Up 4 hours ago     0.0.0.0:38965->22/tcp, 0.0.0.0:42903->2376/tcp, 0.0.0.0:32787->5000/tcp, 0.0.0.0:33043->8443/tcp, 0.0.0.0:42707->32443/tcp  minikube\n",
      "517daf73af7c  docker.io/library/nginx:latest       nginx -g daemon o...  27 seconds ago  Up 28 seconds ago  0.0.0.0:8080->80/tcp                                                                                                        nginx-test-on-podman\n"
     ]
    }
   ],
   "source": [
    "podman ps"
   ]
  },
  {
   "cell_type": "markdown",
   "metadata": {},
   "source": [
    "## Inspecting Containers"
   ]
  },
  {
   "cell_type": "code",
   "execution_count": 4,
   "metadata": {
    "vscode": {
     "languageId": "shellscript"
    }
   },
   "outputs": [
    {
     "name": "stdout",
     "output_type": "stream",
     "text": [
      "[\n",
      "     {\n",
      "          \"Id\": \"517daf73af7c9d7384f0efdf38e3ba0543b95e6d91dadec64bd540736b807357\",\n",
      "          \"Created\": \"2022-07-26T17:56:43.6595016+02:00\",\n",
      "          \"Path\": \"/docker-entrypoint.sh\",\n",
      "          \"Args\": [\n",
      "               \"nginx\",\n",
      "               \"-g\",\n",
      "               \"daemon off;\"\n",
      "          ],\n",
      "          \"State\": {\n",
      "               \"OciVersion\": \"1.0.2-dev\",\n",
      "               \"Status\": \"running\",\n",
      "               \"Running\": true,\n",
      "               \"Paused\": false,\n",
      "               \"Restarting\": false,\n",
      "               \"OOMKilled\": false,\n",
      "               \"Dead\": false,\n",
      "               \"Pid\": 126215,\n",
      "               \"ConmonPid\": 126212,\n",
      "               \"ExitCode\": 0,\n",
      "               \"Error\": \"\",\n",
      "               \"StartedAt\": \"2022-07-26T17:56:43.830436029+02:00\",\n",
      "               \"FinishedAt\": \"0001-01-01T00:00:00Z\",\n",
      "               \"Health\": {\n",
      "                    \"Status\": \"\",\n",
      "                    \"FailingStreak\": 0,\n",
      "                    \"Log\": null\n",
      "               },\n",
      "               \"CgroupPath\": \"/machine.slice/libpod-517daf73af7c9d7384f0efdf38e3ba0543b95e6d91dadec64bd540736b807357.scope\",\n",
      "               \"CheckpointedAt\": \"0001-01-01T00:00:00Z\",\n",
      "               \"RestoredAt\": \"0001-01-01T00:00:00Z\"\n",
      "          },\n",
      "          \"Image\": \"fd2d3e51789eafe943eec792c81e5297ae23570f2a24ed239118f3226e74a1cc\",\n",
      "          \"ImageName\": \"docker.io/library/nginx:latest\",\n",
      "          \"Rootfs\": \"\",\n",
      "          \"Pod\": \"\",\n",
      "          \"ResolvConfPath\": \"/run/containers/storage/overlay-containers/517daf73af7c9d7384f0efdf38e3ba0543b95e6d91dadec64bd540736b807357/userdata/resolv.conf\",\n",
      "          \"HostnamePath\": \"/run/containers/storage/overlay-containers/517daf73af7c9d7384f0efdf38e3ba0543b95e6d91dadec64bd540736b807357/userdata/hostname\",\n",
      "          \"HostsPath\": \"/run/containers/storage/overlay-containers/517daf73af7c9d7384f0efdf38e3ba0543b95e6d91dadec64bd540736b807357/userdata/hosts\",\n",
      "          \"StaticDir\": \"/var/lib/containers/storage/overlay-containers/517daf73af7c9d7384f0efdf38e3ba0543b95e6d91dadec64bd540736b807357/userdata\",\n",
      "          \"OCIConfigPath\": \"/var/lib/containers/storage/overlay-containers/517daf73af7c9d7384f0efdf38e3ba0543b95e6d91dadec64bd540736b807357/userdata/config.json\",\n",
      "          \"OCIRuntime\": \"crun\",\n",
      "          \"ConmonPidFile\": \"/run/containers/storage/overlay-containers/517daf73af7c9d7384f0efdf38e3ba0543b95e6d91dadec64bd540736b807357/userdata/conmon.pid\",\n",
      "          \"PidFile\": \"/run/containers/storage/overlay-containers/517daf73af7c9d7384f0efdf38e3ba0543b95e6d91dadec64bd540736b807357/userdata/pidfile\",\n",
      "          \"Name\": \"nginx-test-on-podman\",\n",
      "          \"RestartCount\": 0,\n",
      "          \"Driver\": \"overlay\",\n",
      "          \"MountLabel\": \"system_u:object_r:container_file_t:s0:c444,c834\",\n",
      "          \"ProcessLabel\": \"system_u:system_r:container_t:s0:c444,c834\",\n",
      "          \"AppArmorProfile\": \"\",\n",
      "          \"EffectiveCaps\": [\n",
      "               \"CAP_CHOWN\",\n",
      "               \"CAP_DAC_OVERRIDE\",\n",
      "               \"CAP_FOWNER\",\n",
      "               \"CAP_FSETID\",\n",
      "               \"CAP_KILL\",\n",
      "               \"CAP_NET_BIND_SERVICE\",\n",
      "               \"CAP_SETFCAP\",\n",
      "               \"CAP_SETGID\",\n",
      "               \"CAP_SETPCAP\",\n",
      "               \"CAP_SETUID\",\n",
      "               \"CAP_SYS_CHROOT\"\n",
      "          ],\n",
      "          \"BoundingCaps\": [\n",
      "               \"CAP_CHOWN\",\n",
      "               \"CAP_DAC_OVERRIDE\",\n",
      "               \"CAP_FOWNER\",\n",
      "               \"CAP_FSETID\",\n",
      "               \"CAP_KILL\",\n",
      "               \"CAP_NET_BIND_SERVICE\",\n",
      "               \"CAP_SETFCAP\",\n",
      "               \"CAP_SETGID\",\n",
      "               \"CAP_SETPCAP\",\n",
      "               \"CAP_SETUID\",\n",
      "               \"CAP_SYS_CHROOT\"\n",
      "          ],\n",
      "          \"ExecIDs\": [],\n",
      "          \"GraphDriver\": {\n",
      "               \"Name\": \"overlay\",\n",
      "               \"Data\": {\n",
      "                    \"LowerDir\": \"/var/lib/containers/storage/overlay/da11adbb10994e4523d06c889de50b546641f55926093e17803eff71541ad7c6/diff:/var/lib/containers/storage/overlay/2c6a4437281110823f1fc32c3e7703fe1a3828384c7077591528d295f0946a37/diff:/var/lib/containers/storage/overlay/c9c7e64c4f75d183ad89c92e29dcef15a967c1d85b4580f8e7497d8f8d6ad6d9/diff:/var/lib/containers/storage/overlay/285ab98ddc3db60eee4d3b034054d0c0e19bb67e6bb335cbca27d5995783a3ab/diff:/var/lib/containers/storage/overlay/56af23a08b845754c79ec5b82c051ad5bc90defaee8e21a56fd399c891d954a6/diff:/var/lib/containers/storage/overlay/af32df749f3fb0040acdb0015af7b7da8f6d600572b22e9137250d3dfbe111f2/diff\",\n",
      "                    \"MergedDir\": \"/var/lib/containers/storage/overlay/1e8661c896c2eda272ce4b378aa8f000659eb8aa83c6f1588ae9ec16e5060f3a/merged\",\n",
      "                    \"UpperDir\": \"/var/lib/containers/storage/overlay/1e8661c896c2eda272ce4b378aa8f000659eb8aa83c6f1588ae9ec16e5060f3a/diff\",\n",
      "                    \"WorkDir\": \"/var/lib/containers/storage/overlay/1e8661c896c2eda272ce4b378aa8f000659eb8aa83c6f1588ae9ec16e5060f3a/work\"\n",
      "               }\n",
      "          },\n",
      "          \"Mounts\": [],\n",
      "          \"Dependencies\": [],\n",
      "          \"NetworkSettings\": {\n",
      "               \"EndpointID\": \"\",\n",
      "               \"Gateway\": \"10.88.0.1\",\n",
      "               \"IPAddress\": \"10.88.0.4\",\n",
      "               \"IPPrefixLen\": 16,\n",
      "               \"IPv6Gateway\": \"\",\n",
      "               \"GlobalIPv6Address\": \"\",\n",
      "               \"GlobalIPv6PrefixLen\": 0,\n",
      "               \"MacAddress\": \"5a:44:8c:7c:6e:b7\",\n",
      "               \"Bridge\": \"\",\n",
      "               \"SandboxID\": \"\",\n",
      "               \"HairpinMode\": false,\n",
      "               \"LinkLocalIPv6Address\": \"\",\n",
      "               \"LinkLocalIPv6PrefixLen\": 0,\n",
      "               \"Ports\": {\n",
      "                    \"80/tcp\": [\n",
      "                         {\n",
      "                              \"HostIp\": \"\",\n",
      "                              \"HostPort\": \"8080\"\n",
      "                         }\n",
      "                    ]\n",
      "               },\n",
      "               \"SandboxKey\": \"/run/netns/netns-728e56e3-4e44-4f3c-ca0a-68ccb7f274d5\",\n",
      "               \"Networks\": {\n",
      "                    \"podman\": {\n",
      "                         \"EndpointID\": \"\",\n",
      "                         \"Gateway\": \"10.88.0.1\",\n",
      "                         \"IPAddress\": \"10.88.0.4\",\n",
      "                         \"IPPrefixLen\": 16,\n",
      "                         \"IPv6Gateway\": \"\",\n",
      "                         \"GlobalIPv6Address\": \"\",\n",
      "                         \"GlobalIPv6PrefixLen\": 0,\n",
      "                         \"MacAddress\": \"5a:44:8c:7c:6e:b7\",\n",
      "                         \"NetworkID\": \"podman\",\n",
      "                         \"DriverOpts\": null,\n",
      "                         \"IPAMConfig\": null,\n",
      "                         \"Links\": null,\n",
      "                         \"Aliases\": [\n",
      "                              \"517daf73af7c\"\n",
      "                         ]\n",
      "                    }\n",
      "               }\n",
      "          },\n",
      "          \"Namespace\": \"\",\n",
      "          \"IsInfra\": false,\n",
      "          \"Config\": {\n",
      "               \"Hostname\": \"517daf73af7c\",\n",
      "               \"Domainname\": \"\",\n",
      "               \"User\": \"\",\n",
      "               \"AttachStdin\": false,\n",
      "               \"AttachStdout\": false,\n",
      "               \"AttachStderr\": false,\n",
      "               \"Tty\": false,\n",
      "               \"OpenStdin\": false,\n",
      "               \"StdinOnce\": false,\n",
      "               \"Env\": [\n",
      "                    \"PATH=/usr/local/sbin:/usr/local/bin:/usr/sbin:/usr/bin:/sbin:/bin\",\n",
      "                    \"TERM=xterm\",\n",
      "                    \"container=podman\",\n",
      "                    \"NGINX_VERSION=1.23.1\",\n",
      "                    \"NJS_VERSION=0.7.6\",\n",
      "                    \"PKG_RELEASE=1~bullseye\",\n",
      "                    \"HOME=/root\",\n",
      "                    \"HOSTNAME=517daf73af7c\"\n",
      "               ],\n",
      "               \"Cmd\": [\n",
      "                    \"nginx\",\n",
      "                    \"-g\",\n",
      "                    \"daemon off;\"\n",
      "               ],\n",
      "               \"Image\": \"docker.io/library/nginx:latest\",\n",
      "               \"Volumes\": null,\n",
      "               \"WorkingDir\": \"/\",\n",
      "               \"Entrypoint\": \"/docker-entrypoint.sh\",\n",
      "               \"OnBuild\": null,\n",
      "               \"Labels\": {\n",
      "                    \"maintainer\": \"NGINX Docker Maintainers <docker-maint@nginx.com>\"\n",
      "               },\n",
      "               \"Annotations\": {\n",
      "                    \"io.container.manager\": \"libpod\",\n",
      "                    \"io.kubernetes.cri-o.Created\": \"2022-07-26T17:56:43.6595016+02:00\",\n",
      "                    \"io.kubernetes.cri-o.TTY\": \"false\",\n",
      "                    \"io.podman.annotations.autoremove\": \"FALSE\",\n",
      "                    \"io.podman.annotations.init\": \"FALSE\",\n",
      "                    \"io.podman.annotations.privileged\": \"FALSE\",\n",
      "                    \"io.podman.annotations.publish-all\": \"FALSE\",\n"
     ]
    },
    {
     "name": "stdout",
     "output_type": "stream",
     "text": [
      "                    \"org.opencontainers.image.stopSignal\": \"3\"\n",
      "               },\n",
      "               \"StopSignal\": 3,\n",
      "               \"CreateCommand\": [\n",
      "                    \"podman\",\n",
      "                    \"run\",\n",
      "                    \"-d\",\n",
      "                    \"--name\",\n",
      "                    \"nginx-test-on-podman\",\n",
      "                    \"-p\",\n",
      "                    \"8080:80\",\n",
      "                    \"docker.io/library/nginx:latest\"\n",
      "               ],\n",
      "               \"Umask\": \"0022\",\n",
      "               \"Timeout\": 0,\n",
      "               \"StopTimeout\": 10,\n",
      "               \"Passwd\": true\n",
      "          },\n",
      "          \"HostConfig\": {\n",
      "               \"Binds\": [],\n",
      "               \"CgroupManager\": \"systemd\",\n",
      "               \"CgroupMode\": \"private\",\n",
      "               \"ContainerIDFile\": \"\",\n",
      "               \"LogConfig\": {\n",
      "                    \"Type\": \"journald\",\n",
      "                    \"Config\": null,\n",
      "                    \"Path\": \"\",\n",
      "                    \"Tag\": \"\",\n",
      "                    \"Size\": \"0B\"\n",
      "               },\n",
      "               \"NetworkMode\": \"bridge\",\n",
      "               \"PortBindings\": {\n",
      "                    \"80/tcp\": [\n",
      "                         {\n",
      "                              \"HostIp\": \"\",\n",
      "                              \"HostPort\": \"8080\"\n",
      "                         }\n",
      "                    ]\n",
      "               },\n",
      "               \"RestartPolicy\": {\n",
      "                    \"Name\": \"\",\n",
      "                    \"MaximumRetryCount\": 0\n",
      "               },\n",
      "               \"AutoRemove\": false,\n",
      "               \"VolumeDriver\": \"\",\n",
      "               \"VolumesFrom\": null,\n",
      "               \"CapAdd\": [],\n",
      "               \"CapDrop\": [\n",
      "                    \"CAP_AUDIT_WRITE\",\n",
      "                    \"CAP_MKNOD\",\n",
      "                    \"CAP_NET_RAW\"\n",
      "               ],\n",
      "               \"Dns\": [],\n",
      "               \"DnsOptions\": [],\n",
      "               \"DnsSearch\": [],\n",
      "               \"ExtraHosts\": [],\n",
      "               \"GroupAdd\": [],\n",
      "               \"IpcMode\": \"shareable\",\n",
      "               \"Cgroup\": \"\",\n",
      "               \"Cgroups\": \"default\",\n",
      "               \"Links\": null,\n",
      "               \"OomScoreAdj\": 0,\n",
      "               \"PidMode\": \"private\",\n",
      "               \"Privileged\": false,\n",
      "               \"PublishAllPorts\": false,\n",
      "               \"ReadonlyRootfs\": false,\n",
      "               \"SecurityOpt\": [],\n",
      "               \"Tmpfs\": {},\n",
      "               \"UTSMode\": \"private\",\n",
      "               \"UsernsMode\": \"\",\n",
      "               \"ShmSize\": 65536000,\n",
      "               \"Runtime\": \"oci\",\n",
      "               \"ConsoleSize\": [\n",
      "                    0,\n",
      "                    0\n",
      "               ],\n",
      "               \"Isolation\": \"\",\n",
      "               \"CpuShares\": 0,\n",
      "               \"Memory\": 0,\n",
      "               \"NanoCpus\": 0,\n",
      "               \"CgroupParent\": \"\",\n",
      "               \"BlkioWeight\": 0,\n",
      "               \"BlkioWeightDevice\": null,\n",
      "               \"BlkioDeviceReadBps\": null,\n",
      "               \"BlkioDeviceWriteBps\": null,\n",
      "               \"BlkioDeviceReadIOps\": null,\n",
      "               \"BlkioDeviceWriteIOps\": null,\n",
      "               \"CpuPeriod\": 0,\n",
      "               \"CpuQuota\": 0,\n",
      "               \"CpuRealtimePeriod\": 0,\n",
      "               \"CpuRealtimeRuntime\": 0,\n",
      "               \"CpusetCpus\": \"\",\n",
      "               \"CpusetMems\": \"\",\n",
      "               \"Devices\": [],\n",
      "               \"DiskQuota\": 0,\n",
      "               \"KernelMemory\": 0,\n",
      "               \"MemoryReservation\": 0,\n",
      "               \"MemorySwap\": 0,\n",
      "               \"MemorySwappiness\": 0,\n",
      "               \"OomKillDisable\": false,\n",
      "               \"PidsLimit\": 2048,\n",
      "               \"Ulimits\": [\n",
      "                    {\n",
      "                         \"Name\": \"RLIMIT_NOFILE\",\n",
      "                         \"Soft\": 1048576,\n",
      "                         \"Hard\": 1048576\n",
      "                    },\n",
      "                    {\n",
      "                         \"Name\": \"RLIMIT_NPROC\",\n",
      "                         \"Soft\": 4194304,\n",
      "                         \"Hard\": 4194304\n",
      "                    }\n",
      "               ],\n",
      "               \"CpuCount\": 0,\n",
      "               \"CpuPercent\": 0,\n",
      "               \"IOMaximumIOps\": 0,\n",
      "               \"IOMaximumBandwidth\": 0,\n",
      "               \"CgroupConf\": null\n",
      "          }\n",
      "     }\n",
      "]\n"
     ]
    }
   ],
   "source": [
    "podman inspect nginx-test-on-podman"
   ]
  },
  {
   "cell_type": "markdown",
   "metadata": {},
   "source": [
    "## Stopping a running container"
   ]
  },
  {
   "cell_type": "code",
   "execution_count": 5,
   "metadata": {
    "vscode": {
     "languageId": "shellscript"
    }
   },
   "outputs": [
    {
     "name": "stdout",
     "output_type": "stream",
     "text": [
      "nginx-test-on-podman\n"
     ]
    }
   ],
   "source": [
    "podman stop nginx-test-on-podman"
   ]
  },
  {
   "cell_type": "markdown",
   "metadata": {},
   "source": [
    "## Deleting a stopped container"
   ]
  },
  {
   "cell_type": "code",
   "execution_count": 6,
   "metadata": {
    "vscode": {
     "languageId": "shellscript"
    }
   },
   "outputs": [
    {
     "name": "stdout",
     "output_type": "stream",
     "text": [
      "517daf73af7c9d7384f0efdf38e3ba0543b95e6d91dadec64bd540736b807357\n"
     ]
    }
   ],
   "source": [
    "podman rm nginx-test-on-podman"
   ]
  },
  {
   "cell_type": "code",
   "execution_count": null,
   "metadata": {},
   "outputs": [],
   "source": []
  }
 ],
 "metadata": {
  "kernelspec": {
   "display_name": "Bash",
   "language": "bash",
   "name": "bash"
  },
  "language_info": {
   "codemirror_mode": "shell",
   "file_extension": ".sh",
   "mimetype": "text/x-sh",
   "name": "bash"
  }
 },
 "nbformat": 4,
 "nbformat_minor": 2
}
