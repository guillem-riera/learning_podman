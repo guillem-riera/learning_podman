{
 "cells": [
  {
   "cell_type": "markdown",
   "metadata": {},
   "source": [
    "# Podman First Steps\n",
    "\n",
    "Podman stands for Pod Manager (more on Pods later in Chapter 4).\n",
    "\n",
    "Podman can be controlled over its API, using either REST over HTTP/S or Socket (those methods are called transports).\n",
    "\n",
    "If you are comfortable using Docker then you'll find yourself at home using Podman's API, as it is compatible.\n",
    "\n",
    "Even the CLI uses the exact same format and verbs as Docker."
   ]
  },
  {
   "cell_type": "markdown",
   "metadata": {},
   "source": [
    "## Running Containers\n",
    "\n",
    "Let's pull and run a web server (nginx) container:"
   ]
  },
  {
   "cell_type": "code",
   "execution_count": 6,
   "metadata": {
    "vscode": {
     "languageId": "shellscript"
    }
   },
   "outputs": [
    {
     "name": "stdout",
     "output_type": "stream",
     "text": [
      "3a032d3e01d566a214b7fe2b3d1e3d0154646ffdacc97378bba5c78d628175b5\n",
      "\u001b[?2004h"
     ]
    },
    {
     "ename": "",
     "evalue": "1",
     "output_type": "error",
     "traceback": []
    }
   ],
   "source": [
    "podman run -d --name nginx-test-on-podman -p 8080:80 docker.io/library/nginx:latest"
   ]
  },
  {
   "cell_type": "markdown",
   "metadata": {},
   "source": [
    "## Testing the Seamless Port-Forwarding\n",
    "\n",
    "Podman forwards the ports from the Podman machine seamlessly to the host.\n",
    "This means that the port 8080 from the previous example is open for connection on the `localhost` and forwards the request to the port 80 on the container."
   ]
  },
  {
   "cell_type": "code",
   "execution_count": 1,
   "metadata": {
    "vscode": {
     "languageId": "shellscript"
    }
   },
   "outputs": [
    {
     "name": "stdout",
     "output_type": "stream",
     "text": [
      "*   Trying 127.0.0.1:8080...\n",
      "* Connected to localhost (127.0.0.1) port 8080 (#0)\n",
      "> GET / HTTP/1.1\n",
      "> Host: localhost:8080\n",
      "> User-Agent: curl/7.79.1\n",
      "> Accept: */*\n",
      "> \n",
      "* Mark bundle as not supporting multiuse\n",
      "< HTTP/1.1 200 OK\n",
      "< Server: nginx/1.23.0\n",
      "< Date: Mon, 18 Jul 2022 15:32:29 GMT\n",
      "< Content-Type: text/html\n",
      "< Content-Length: 615\n",
      "< Last-Modified: Tue, 21 Jun 2022 14:25:37 GMT\n",
      "< Connection: keep-alive\n",
      "< ETag: \"62b1d4e1-267\"\n",
      "< Accept-Ranges: bytes\n",
      "< \n",
      "<!DOCTYPE html>\n",
      "<html>\n",
      "<head>\n",
      "<title>Welcome to nginx!</title>\n",
      "<style>\n",
      "html { color-scheme: light dark; }\n",
      "body { width: 35em; margin: 0 auto;\n",
      "font-family: Tahoma, Verdana, Arial, sans-serif; }\n",
      "</style>\n",
      "</head>\n",
      "<body>\n",
      "<h1>Welcome to nginx!</h1>\n",
      "<p>If you see this page, the nginx web server is successfully installed and\n",
      "working. Further configuration is required.</p>\n",
      "\n",
      "<p>For online documentation and support please refer to\n",
      "<a href=\"http://nginx.org/\">nginx.org</a>.<br/>\n",
      "Commercial support is available at\n",
      "<a href=\"http://nginx.com/\">nginx.com</a>.</p>\n",
      "\n",
      "<p><em>Thank you for using nginx.</em></p>\n",
      "</body>\n",
      "</html>\n",
      "* Connection #0 to host localhost left intact\n",
      "\u001b[?2004h"
     ]
    },
    {
     "ename": "",
     "evalue": "1",
     "output_type": "error",
     "traceback": []
    }
   ],
   "source": [
    "curl -v http://localhost:8080"
   ]
  },
  {
   "cell_type": "markdown",
   "metadata": {},
   "source": [
    "## Listing Containers"
   ]
  },
  {
   "cell_type": "code",
   "execution_count": 2,
   "metadata": {
    "vscode": {
     "languageId": "shellscript"
    }
   },
   "outputs": [
    {
     "name": "stdout",
     "output_type": "stream",
     "text": [
      "CONTAINER ID  IMAGE                           COMMAND               CREATED        STATUS            PORTS                 NAMES\n",
      "160329eefee0  docker.io/library/nginx:latest  nginx -g daemon o...  3 minutes ago  Up 3 minutes ago  0.0.0.0:8080->80/tcp  nginx-test-on-podman\n",
      "\u001b[?2004h"
     ]
    },
    {
     "ename": "",
     "evalue": "1",
     "output_type": "error",
     "traceback": []
    }
   ],
   "source": [
    "podman ps"
   ]
  },
  {
   "cell_type": "markdown",
   "metadata": {},
   "source": [
    "## Inspecting Containers"
   ]
  },
  {
   "cell_type": "code",
   "execution_count": 3,
   "metadata": {
    "vscode": {
     "languageId": "shellscript"
    }
   },
   "outputs": [
    {
     "name": "stdout",
     "output_type": "stream",
     "text": [
      "[[?2004l\n",
      "     {\n",
      "          \"Id\": \"160329eefee07014d1ffb95c08054f2f0cfd45e50c136c1ad47542e049ad98e2\",\n",
      "          \"Created\": \"2022-07-18T17:30:03.455550486+02:00\",\n",
      "          \"Path\": \"/docker-entrypoint.sh\",\n",
      "          \"Args\": [\n",
      "               \"nginx\",\n",
      "               \"-g\",\n",
      "               \"daemon off;\"\n",
      "          ],\n",
      "          \"State\": {\n",
      "               \"OciVersion\": \"1.0.2-dev\",\n",
      "               \"Status\": \"running\",\n",
      "               \"Running\": true,\n",
      "               \"Paused\": false,\n",
      "               \"Restarting\": false,\n",
      "               \"OOMKilled\": false,\n",
      "               \"Dead\": false,\n",
      "               \"Pid\": 2066,\n",
      "               \"ConmonPid\": 2063,\n",
      "               \"ExitCode\": 0,\n",
      "               \"Error\": \"\",\n",
      "               \"StartedAt\": \"2022-07-18T17:30:03.817629193+02:00\",\n",
      "               \"FinishedAt\": \"0001-01-01T00:00:00Z\",\n",
      "               \"Health\": {\n",
      "                    \"Status\": \"\",\n",
      "                    \"FailingStreak\": 0,\n",
      "                    \"Log\": null\n",
      "               },\n",
      "               \"CgroupPath\": \"/machine.slice/libpod-160329eefee07014d1ffb95c08054f2f0cfd45e50c136c1ad47542e049ad98e2.scope\",\n",
      "               \"CheckpointedAt\": \"0001-01-01T00:00:00Z\",\n",
      "               \"RestoredAt\": \"0001-01-01T00:00:00Z\"\n",
      "          },\n",
      "          \"Image\": \"bdd039337c4bd8bfc8177848a3d0c90110016a7f8f708caa0228a8dcba42fe22\",\n",
      "          \"ImageName\": \"docker.io/library/nginx:latest\",\n",
      "          \"Rootfs\": \"\",\n",
      "          \"Pod\": \"\",\n",
      "          \"ResolvConfPath\": \"/run/containers/storage/overlay-containers/160329eefee07014d1ffb95c08054f2f0cfd45e50c136c1ad47542e049ad98e2/userdata/resolv.conf\",\n",
      "          \"HostnamePath\": \"/run/containers/storage/overlay-containers/160329eefee07014d1ffb95c08054f2f0cfd45e50c136c1ad47542e049ad98e2/userdata/hostname\",\n",
      "          \"HostsPath\": \"/run/containers/storage/overlay-containers/160329eefee07014d1ffb95c08054f2f0cfd45e50c136c1ad47542e049ad98e2/userdata/hosts\",\n",
      "          \"StaticDir\": \"/var/lib/containers/storage/overlay-containers/160329eefee07014d1ffb95c08054f2f0cfd45e50c136c1ad47542e049ad98e2/userdata\",\n",
      "          \"OCIConfigPath\": \"/var/lib/containers/storage/overlay-containers/160329eefee07014d1ffb95c08054f2f0cfd45e50c136c1ad47542e049ad98e2/userdata/config.json\",\n",
      "          \"OCIRuntime\": \"crun\",\n",
      "          \"ConmonPidFile\": \"/run/containers/storage/overlay-containers/160329eefee07014d1ffb95c08054f2f0cfd45e50c136c1ad47542e049ad98e2/userdata/conmon.pid\",\n",
      "          \"PidFile\": \"/run/containers/storage/overlay-containers/160329eefee07014d1ffb95c08054f2f0cfd45e50c136c1ad47542e049ad98e2/userdata/pidfile\",\n",
      "          \"Name\": \"nginx-test-on-podman\",\n",
      "          \"RestartCount\": 0,\n",
      "          \"Driver\": \"overlay\",\n",
      "          \"MountLabel\": \"system_u:object_r:container_file_t:s0:c38,c353\",\n",
      "          \"ProcessLabel\": \"system_u:system_r:container_t:s0:c38,c353\",\n",
      "          \"AppArmorProfile\": \"\",\n",
      "          \"EffectiveCaps\": [\n",
      "               \"CAP_CHOWN\",\n",
      "               \"CAP_DAC_OVERRIDE\",\n",
      "               \"CAP_FOWNER\",\n",
      "               \"CAP_FSETID\",\n",
      "               \"CAP_KILL\",\n",
      "               \"CAP_NET_BIND_SERVICE\",\n",
      "               \"CAP_SETFCAP\",\n",
      "               \"CAP_SETGID\",\n",
      "               \"CAP_SETPCAP\",\n",
      "               \"CAP_SETUID\",\n",
      "               \"CAP_SYS_CHROOT\"\n",
      "          ],\n",
      "          \"BoundingCaps\": [\n",
      "               \"CAP_CHOWN\",\n",
      "               \"CAP_DAC_OVERRIDE\",\n",
      "               \"CAP_FOWNER\",\n",
      "               \"CAP_FSETID\",\n",
      "               \"CAP_KILL\",\n",
      "               \"CAP_NET_BIND_SERVICE\",\n",
      "               \"CAP_SETFCAP\",\n",
      "               \"CAP_SETGID\",\n",
      "               \"CAP_SETPCAP\",\n",
      "               \"CAP_SETUID\",\n",
      "               \"CAP_SYS_CHROOT\"\n",
      "          ],\n",
      "          \"ExecIDs\": [],\n",
      "          \"GraphDriver\": {\n",
      "               \"Name\": \"overlay\",\n",
      "               \"Data\": {\n",
      "                    \"LowerDir\": \"/var/lib/containers/storage/overlay/bf57f8fbcc19dd53b9c53ab36c7a348d37946698c0ef75bb4805af223c5cda46/diff:/var/lib/containers/storage/overlay/155957c081f720f1a95d0d5e24b0601c721711f17142d2ca577ef1838a6a12ed/diff:/var/lib/containers/storage/overlay/47b20ee8c64ae26b152e27ec975a3f058a896ca40547cf502cf12605ee651fc2/diff:/var/lib/containers/storage/overlay/31c4646db9d13a092e1e0fd6d01454d3bf44dcfe819ae1206f86ea1d071c3bd5/diff:/var/lib/containers/storage/overlay/697d06fc1c93868e1ed1673044bc1db1a231f3a1ae8d6b911d872a97f54f2784/diff:/var/lib/containers/storage/overlay/af32df749f3fb0040acdb0015af7b7da8f6d600572b22e9137250d3dfbe111f2/diff\",\n",
      "                    \"MergedDir\": \"/var/lib/containers/storage/overlay/231e591d971f853fef7e1518786461f0478403002f039dc2477f609e2add52aa/merged\",\n",
      "                    \"UpperDir\": \"/var/lib/containers/storage/overlay/231e591d971f853fef7e1518786461f0478403002f039dc2477f609e2add52aa/diff\",\n",
      "                    \"WorkDir\": \"/var/lib/containers/storage/overlay/231e591d971f853fef7e1518786461f0478403002f039dc2477f609e2add52aa/work\"\n",
      "               }\n",
      "          },\n",
      "          \"Mounts\": [],\n",
      "          \"Dependencies\": [],\n",
      "          \"NetworkSettings\": {\n",
      "               \"EndpointID\": \"\",\n",
      "               \"Gateway\": \"10.88.0.1\",\n",
      "               \"IPAddress\": \"10.88.0.2\",\n",
      "               \"IPPrefixLen\": 16,\n",
      "               \"IPv6Gateway\": \"\",\n",
      "               \"GlobalIPv6Address\": \"\",\n",
      "               \"GlobalIPv6PrefixLen\": 0,\n",
      "               \"MacAddress\": \"b6:8a:b8:e3:95:5d\",\n",
      "               \"Bridge\": \"\",\n",
      "               \"SandboxID\": \"\",\n",
      "               \"HairpinMode\": false,\n",
      "               \"LinkLocalIPv6Address\": \"\",\n",
      "               \"LinkLocalIPv6PrefixLen\": 0,\n",
      "               \"Ports\": {\n",
      "                    \"80/tcp\": [\n",
      "                         {\n",
      "                              \"HostIp\": \"\",\n",
      "                              \"HostPort\": \"8080\"\n",
      "                         }\n",
      "                    ]\n",
      "               },\n",
      "               \"SandboxKey\": \"/run/netns/netns-64f87c4b-405b-aaf3-784c-da348705e762\",\n",
      "               \"Networks\": {\n",
      "                    \"podman\": {\n",
      "                         \"EndpointID\": \"\",\n",
      "                         \"Gateway\": \"10.88.0.1\",\n",
      "                         \"IPAddress\": \"10.88.0.2\",\n",
      "                         \"IPPrefixLen\": 16,\n",
      "                         \"IPv6Gateway\": \"\",\n",
      "                         \"GlobalIPv6Address\": \"\",\n",
      "                         \"GlobalIPv6PrefixLen\": 0,\n",
      "                         \"MacAddress\": \"b6:8a:b8:e3:95:5d\",\n",
      "                         \"NetworkID\": \"podman\",\n",
      "                         \"DriverOpts\": null,\n",
      "                         \"IPAMConfig\": null,\n",
      "                         \"Links\": null,\n",
      "                         \"Aliases\": [\n",
      "                              \"160329eefee0\"\n",
      "                         ]\n",
      "                    }\n",
      "               }\n",
      "          },\n",
      "          \"Namespace\": \"\",\n",
      "          \"IsInfra\": false,\n",
      "          \"Config\": {\n",
      "               \"Hostname\": \"160329eefee0\",\n",
      "               \"Domainname\": \"\",\n",
      "               \"User\": \"\",\n",
      "               \"AttachStdin\": false,\n",
      "               \"AttachStdout\": false,\n",
      "               \"AttachStderr\": false,\n",
      "               \"Tty\": false,\n",
      "               \"OpenStdin\": false,\n",
      "               \"StdinOnce\": false,\n",
      "               \"Env\": [\n",
      "                    \"NGINX_VERSION=1.23.0\",\n",
      "                    \"NJS_VERSION=0.7.5\",\n",
      "                    \"PKG_RELEASE=1~bullseye\",\n",
      "                    \"PATH=/usr/local/sbin:/usr/local/bin:/usr/sbin:/usr/bin:/sbin:/bin\",\n",
      "                    \"TERM=xterm\",\n",
      "                    \"container=podman\",\n",
      "                    \"HOME=/root\",\n",
      "                    \"HOSTNAME=160329eefee0\"\n",
      "               ],\n",
      "               \"Cmd\": [\n",
      "                    \"nginx\",\n",
      "                    \"-g\",\n",
      "                    \"daemon off;\"\n",
      "               ],\n",
      "               \"Image\": \"docker.io/library/nginx:latest\",\n",
      "               \"Volumes\": null,\n",
      "               \"WorkingDir\": \"/\",\n",
      "               \"Entrypoint\": \"/docker-entrypoint.sh\",\n",
      "               \"OnBuild\": null,\n",
      "               \"Labels\": {\n",
      "                    \"maintainer\": \"NGINX Docker Maintainers <docker-maint@nginx.com>\"\n",
      "               },\n",
      "               \"Annotations\": {\n",
      "                    \"io.container.manager\": \"libpod\",\n",
      "                    \"io.kubernetes.cri-o.Created\": \"2022-07-18T17:30:03.455550486+02:00\",\n",
      "                    \"io.kubernetes.cri-o.TTY\": \"false\",\n",
      "                    \"io.podman.annotations.autoremove\": \"FALSE\",\n",
      "                    \"io.podman.annotations.init\": \"FALSE\",\n",
      "                    \"io.podman.annotations.privileged\": \"FALSE\",\n",
      "                    \"io.podman.annotations.publish-all\": \"FALSE\",\n",
      "                    \"org.opencontainers.image.stopSignal\": \"3\"\n",
      "               },\n",
      "               \"StopSignal\": 3,\n",
      "               \"CreateCommand\": [\n",
      "                    \"podman\",\n",
      "                    \"run\",\n",
      "                    \"-d\",\n",
      "                    \"--name\",\n",
      "                    \"nginx-test-on-podman\",\n",
      "                    \"-p\",\n",
      "                    \"8080:80\",\n",
      "                    \"docker.io/library/nginx:latest\"\n",
      "               ],\n",
      "               \"Umask\": \"0022\",\n",
      "               \"Timeout\": 0,\n",
      "               \"StopTimeout\": 10,\n",
      "               \"Passwd\": true\n",
      "          },\n",
      "          \"HostConfig\": {\n",
      "               \"Binds\": [],\n",
      "               \"CgroupManager\": \"systemd\",\n",
      "               \"CgroupMode\": \"private\",\n",
      "               \"ContainerIDFile\": \"\",\n",
      "               \"LogConfig\": {\n",
      "                    \"Type\": \"journald\",\n",
      "                    \"Config\": null,\n",
      "                    \"Path\": \"\",\n",
      "                    \"Tag\": \"\",\n",
      "                    \"Size\": \"0B\"\n",
      "               },\n",
      "               \"NetworkMode\": \"bridge\",\n",
      "               \"PortBindings\": {\n",
      "                    \"80/tcp\": [\n",
      "                         {\n",
      "                              \"HostIp\": \"\",\n",
      "                              \"HostPort\": \"8080\"\n",
      "                         }\n",
      "                    ]\n",
      "               },\n",
      "               \"RestartPolicy\": {\n",
      "                    \"Name\": \"\",\n",
      "                    \"MaximumRetryCount\": 0\n",
      "               },\n",
      "               \"AutoRemove\": false,\n",
      "               \"VolumeDriver\": \"\",\n",
      "               \"VolumesFrom\": null,\n",
      "               \"CapAdd\": [],\n",
      "               \"CapDrop\": [\n",
      "                    \"CAP_AUDIT_WRITE\",\n",
      "                    \"CAP_MKNOD\",\n",
      "                    \"CAP_NET_RAW\"\n",
      "               ],\n",
      "               \"Dns\": [],\n",
      "               \"DnsOptions\": [],\n",
      "               \"DnsSearch\": [],\n",
      "               \"ExtraHosts\": [],\n",
      "               \"GroupAdd\": [],\n",
      "               \"IpcMode\": \"shareable\",\n",
      "               \"Cgroup\": \"\",\n",
      "               \"Cgroups\": \"default\",\n",
      "               \"Links\": null,\n",
      "               \"OomScoreAdj\": 0,\n",
      "               \"PidMode\": \"private\",\n",
      "               \"Privileged\": false,\n",
      "               \"PublishAllPorts\": false,\n",
      "               \"ReadonlyRootfs\": false,\n",
      "               \"SecurityOpt\": [],\n",
      "               \"Tmpfs\": {},\n",
      "               \"UTSMode\": \"private\",\n",
      "               \"UsernsMode\": \"\",\n",
      "               \"ShmSize\": 65536000,\n",
      "               \"Runtime\": \"oci\",\n",
      "               \"ConsoleSize\": [\n",
      "                    0,\n",
      "                    0\n",
      "               ],\n",
      "               \"Isolation\": \"\",\n",
      "               \"CpuShares\": 0,\n",
      "               \"Memory\": 0,\n",
      "               \"NanoCpus\": 0,\n",
      "               \"CgroupParent\": \"\",\n",
      "               \"BlkioWeight\": 0,\n",
      "               \"BlkioWeightDevice\": null,\n",
      "               \"BlkioDeviceReadBps\": null,\n",
      "               \"BlkioDeviceWriteBps\": null,\n",
      "               \"BlkioDeviceReadIOps\": null,\n",
      "               \"BlkioDeviceWriteIOps\": null,\n",
      "               \"CpuPeriod\": 0,\n",
      "               \"CpuQuota\": 0,\n",
      "               \"CpuRealtimePeriod\": 0,\n",
      "               \"CpuRealtimeRuntime\": 0,\n",
      "               \"CpusetCpus\": \"\",\n",
      "               \"CpusetMems\": \"\",\n",
      "               \"Devices\": [],\n",
      "               \"DiskQuota\": 0,\n",
      "               \"KernelMemory\": 0,\n",
      "               \"MemoryReservation\": 0,\n",
      "               \"MemorySwap\": 0,\n",
      "               \"MemorySwappiness\": 0,\n",
      "               \"OomKillDisable\": false,\n",
      "               \"PidsLimit\": 2048,\n",
      "               \"Ulimits\": [\n",
      "                    {\n",
      "                         \"Name\": \"RLIMIT_NOFILE\",\n",
      "                         \"Soft\": 1048576,\n",
      "                         \"Hard\": 1048576\n",
      "                    },\n",
      "                    {\n",
      "                         \"Name\": \"RLIMIT_NPROC\",\n",
      "                         \"Soft\": 4194304,\n",
      "                         \"Hard\": 4194304\n",
      "                    }\n",
      "               ],\n",
      "               \"CpuCount\": 0,\n",
      "               \"CpuPercent\": 0,\n",
      "               \"IOMaximumIOps\": 0,\n",
      "               \"IOMaximumBandwidth\": 0,\n",
      "               \"CgroupConf\": null\n",
      "          }\n",
      "     }\n",
      "]\n",
      "\u001b[?2004h"
     ]
    },
    {
     "ename": "",
     "evalue": "1",
     "output_type": "error",
     "traceback": []
    }
   ],
   "source": [
    "podman inspect nginx-test-on-podman"
   ]
  },
  {
   "cell_type": "markdown",
   "metadata": {},
   "source": [
    "## Stopping a running container"
   ]
  },
  {
   "cell_type": "code",
   "execution_count": 7,
   "metadata": {
    "vscode": {
     "languageId": "shellscript"
    }
   },
   "outputs": [
    {
     "name": "stdout",
     "output_type": "stream",
     "text": [
      "nginx-test-on-podman\n",
      "\u001b[?2004h"
     ]
    },
    {
     "ename": "",
     "evalue": "1",
     "output_type": "error",
     "traceback": []
    }
   ],
   "source": [
    "podman stop nginx-test-on-podman"
   ]
  },
  {
   "cell_type": "markdown",
   "metadata": {},
   "source": [
    "## Deleting a stopped container"
   ]
  },
  {
   "cell_type": "code",
   "execution_count": 8,
   "metadata": {
    "vscode": {
     "languageId": "shellscript"
    }
   },
   "outputs": [
    {
     "name": "stdout",
     "output_type": "stream",
     "text": [
      "3a032d3e01d566a214b7fe2b3d1e3d0154646ffdacc97378bba5c78d628175b5\n",
      "\u001b[?2004h"
     ]
    },
    {
     "ename": "",
     "evalue": "1",
     "output_type": "error",
     "traceback": []
    }
   ],
   "source": [
    "podman rm nginx-test-on-podman"
   ]
  }
 ],
 "metadata": {
  "kernelspec": {
   "display_name": "Bash",
   "language": "bash",
   "name": "bash"
  },
  "language_info": {
   "codemirror_mode": "shell",
   "file_extension": ".sh",
   "mimetype": "text/x-sh",
   "name": "bash"
  },
  "orig_nbformat": 4
 },
 "nbformat": 4,
 "nbformat_minor": 2
}
