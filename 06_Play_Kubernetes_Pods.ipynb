{
 "cells": [
  {
   "cell_type": "markdown",
   "metadata": {},
   "source": [
    "# Podman Plays Kubernetes Pods\n",
    "\n",
    "With a few limitations Podman can play Kubernetes Pods.\n",
    "\n",
    "It is possible to export a manifest from a running pod and after cleaning the following, it can be played in podman:\n",
    "\n",
    "1. Metadata / Annotations\n",
    "1. Secret Mounts\n",
    "1. Status\n",
    "\n",
    "I exported a sample under `tests/exported-pod.yaml` for reference. This pod was applied from the generated pod manifest, so we need to stop the older pod if still running (I renamed the pod name too in the manifest so that the 2 can coexist)."
   ]
  },
  {
   "cell_type": "code",
   "execution_count": 1,
   "metadata": {
    "vscode": {
     "languageId": "shellscript"
    }
   },
   "outputs": [
    {
     "name": "stdout",
     "output_type": "stream",
     "text": [
      "80c71a708a8e3b7d702236aeff628e213c3fccee699fe17ce40510a6d99f815e\n",
      "\u001b[?2004h"
     ]
    },
    {
     "ename": "",
     "evalue": "1",
     "output_type": "error",
     "traceback": []
    }
   ],
   "source": [
    "# Stop the dynamic-webserver pod that we created in Chapter 4\n",
    "podman pod stop dynamic-webserver"
   ]
  },
  {
   "cell_type": "code",
   "execution_count": 2,
   "metadata": {
    "vscode": {
     "languageId": "shellscript"
    }
   },
   "outputs": [
    {
     "name": "stdout",
     "output_type": "stream",
     "text": [
      "Pod:004h\u001b[?2004l\n",
      "5c66988ca8d2be930f29e969b09616e645895dd8e7a0bde042ad92b51d2dd571\n",
      "Containers:\n",
      "bf908cab8f18a9a8d060691cc3b620bb6e7f0a454dbfe5af267121e848a809a7\n",
      "3279fab8cd2704f96e145ccc0cc5989a1e6a5db43d71646b426b1d33e4f67863\n",
      "\n",
      "\u001b[?2004h"
     ]
    },
    {
     "ename": "",
     "evalue": "1",
     "output_type": "error",
     "traceback": []
    }
   ],
   "source": [
    "# Apply the exported manifest\n",
    "podman play kube tests/exported-pod.yaml"
   ]
  },
  {
   "cell_type": "code",
   "execution_count": 3,
   "metadata": {
    "vscode": {
     "languageId": "shellscript"
    }
   },
   "outputs": [
    {
     "name": "stdout",
     "output_type": "stream",
     "text": [
      "{[?2004h\u001b[?2004l\n",
      "     \"Id\": \"5c66988ca8d2be930f29e969b09616e645895dd8e7a0bde042ad92b51d2dd571\",\n",
      "     \"Name\": \"exported-dynamic-webserver\",\n",
      "     \"Created\": \"2022-07-25T18:10:30.483426618+02:00\",\n",
      "     \"State\": \"Running\",\n",
      "     \"Hostname\": \"exported-dynamic-webserver\",\n",
      "     \"Labels\": {\n",
      "          \"app\": \"exported-dynamic-webserver\"\n",
      "     },\n",
      "     \"CreateCgroup\": true,\n",
      "     \"CgroupParent\": \"machine.slice\",\n",
      "     \"CgroupPath\": \"machine.slice/machine-libpod_pod_5c66988ca8d2be930f29e969b09616e645895dd8e7a0bde042ad92b51d2dd571.slice\",\n",
      "     \"CreateInfra\": true,\n",
      "     \"InfraContainerID\": \"198d6a0244d21e714a93121bce6f7cd7b10ca89b569af555cb25340667a9702f\",\n",
      "     \"InfraConfig\": {\n",
      "          \"PortBindings\": {\n",
      "               \"80/tcp\": [\n",
      "     {\n",
      "          \"HostIp\": \"\",\n",
      "          \"HostPort\": \"8080\"\n",
      "     }\n",
      "]\n",
      "          },\n",
      "          \"HostNetwork\": false,\n",
      "          \"StaticIP\": \"\",\n",
      "          \"StaticMAC\": \"\",\n",
      "          \"NoManageResolvConf\": false,\n",
      "          \"DNSServer\": null,\n",
      "          \"DNSSearch\": null,\n",
      "          \"DNSOption\": null,\n",
      "          \"NoManageHosts\": false,\n",
      "          \"HostAdd\": null,\n",
      "          \"Networks\": [\n",
      "               \"podman\"\n",
      "          ],\n",
      "          \"NetworkOptions\": null,\n",
      "          \"pid_ns\": \"private\",\n",
      "          \"userns\": \"host\"\n",
      "     },\n",
      "     \"SharedNamespaces\": [\n",
      "          \"ipc\",\n",
      "          \"net\",\n",
      "          \"uts\"\n",
      "     ],\n",
      "     \"NumContainers\": 4,\n",
      "     \"Containers\": [\n",
      "          {\n",
      "               \"Id\": \"010d84565aa57b648c124b04685b00440db49f30ce72a576bb2462fff1ce4327\",\n",
      "               \"Name\": \"exported-dynamic-webserver-apache-httpd-init\",\n",
      "               \"State\": \"exited\"\n",
      "          },\n",
      "          {\n",
      "               \"Id\": \"198d6a0244d21e714a93121bce6f7cd7b10ca89b569af555cb25340667a9702f\",\n",
      "               \"Name\": \"5c66988ca8d2-infra\",\n",
      "               \"State\": \"running\"\n",
      "          },\n",
      "          {\n",
      "               \"Id\": \"3279fab8cd2704f96e145ccc0cc5989a1e6a5db43d71646b426b1d33e4f67863\",\n",
      "               \"Name\": \"exported-dynamic-webserver-apache-httpd-index-updater\",\n",
      "               \"State\": \"running\"\n",
      "          },\n",
      "          {\n",
      "               \"Id\": \"bf908cab8f18a9a8d060691cc3b620bb6e7f0a454dbfe5af267121e848a809a7\",\n",
      "               \"Name\": \"exported-dynamic-webserver-apache-httpd\",\n",
      "               \"State\": \"running\"\n",
      "          }\n",
      "     ]\n",
      "}\n",
      "\u001b[?2004h"
     ]
    },
    {
     "ename": "",
     "evalue": "1",
     "output_type": "error",
     "traceback": []
    }
   ],
   "source": [
    "# Inspect the pod\n",
    "podman pod inspect exported-dynamic-webserver"
   ]
  },
  {
   "cell_type": "code",
   "execution_count": 4,
   "metadata": {
    "vscode": {
     "languageId": "shellscript"
    }
   },
   "outputs": [
    {
     "name": "stdout",
     "output_type": "stream",
     "text": [
      "Static Website Init\n",
      "Index Updated @Mon Jul 25 16:14:24 UTC 2022\n",
      "Index Updated @Mon Jul 25 16:14:34 UTC 2022\n",
      "\u001b[?2004h"
     ]
    },
    {
     "ename": "",
     "evalue": "1",
     "output_type": "error",
     "traceback": []
    }
   ],
   "source": [
    "# Even the persistent volume claim was handled properly as a volume mount for all containers\n",
    "curl localhost:8080"
   ]
  }
 ],
 "metadata": {
  "kernelspec": {
   "display_name": "Bash",
   "language": "bash",
   "name": "bash"
  },
  "language_info": {
   "codemirror_mode": "shell",
   "file_extension": ".sh",
   "mimetype": "text/x-sh",
   "name": "bash"
  },
  "orig_nbformat": 4
 },
 "nbformat": 4,
 "nbformat_minor": 2
}
