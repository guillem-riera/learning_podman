{
 "cells": [
  {
   "cell_type": "markdown",
   "metadata": {},
   "source": [
    "# Podman Plays Kubernetes Pods\n",
    "\n",
    "With a few limitations Podman can play Kubernetes Pods.\n",
    "\n",
    "It is possible to export a manifest from a running pod and after cleaning the following, it can be played in podman:\n",
    "\n",
    "1. Metadata / Annotations\n",
    "1. Secret Mounts\n",
    "1. Status\n",
    "\n",
    "I exported a sample under `tests/exported-pod.yaml` for reference. This pod was applied from the generated pod manifest, so we need to stop the older pod if still running (I renamed the pod name too in the manifest so that the 2 can coexist)."
   ]
  },
  {
   "cell_type": "code",
   "execution_count": 1,
   "metadata": {
    "vscode": {
     "languageId": "shellscript"
    }
   },
   "outputs": [
    {
     "name": "stdout",
     "output_type": "stream",
     "text": [
      "80c71a708a8e3b7d702236aeff628e213c3fccee699fe17ce40510a6d99f815e\n",
      "\u001b[?2004h"
     ]
    },
    {
     "ename": "",
     "evalue": "1",
     "output_type": "error",
     "traceback": []
    }
   ],
   "source": [
    "# Stop the dynamic-webserver pod that we created in Chapter 4\n",
    "podman pod stop dynamic-webserver"
   ]
  },
  {
   "cell_type": "code",
   "execution_count": 1,
   "metadata": {
    "vscode": {
     "languageId": "shellscript"
    }
   },
   "outputs": [
    {
     "name": "stdout",
     "output_type": "stream",
     "text": [
      "Pod:\n",
      "2d6e8a4357379520927ce14c13515584fbd82657e6bac79f378bfd42c7f1b2fe\n",
      "Containers:\n",
      "1b6d6a4c6d578899e5a434fd9f8f134078f15b86ad8e734f3964b384f768ad0a\n",
      "8d802f3f6611d9fab1b17fcc85bf3748415d211e7676bce9e1fb5db10078de66\n",
      "\n"
     ]
    }
   ],
   "source": [
    "# Apply the exported manifest\n",
    "podman play kube tests/exported-pod.yaml"
   ]
  },
  {
   "cell_type": "code",
   "execution_count": 2,
   "metadata": {
    "vscode": {
     "languageId": "shellscript"
    }
   },
   "outputs": [
    {
     "name": "stdout",
     "output_type": "stream",
     "text": [
      "{\n",
      "     \"Id\": \"2d6e8a4357379520927ce14c13515584fbd82657e6bac79f378bfd42c7f1b2fe\",\n",
      "     \"Name\": \"exported-dynamic-webserver\",\n",
      "     \"Created\": \"2022-07-26T18:09:21.580479183+02:00\",\n",
      "     \"State\": \"Running\",\n",
      "     \"Hostname\": \"exported-dynamic-webserver\",\n",
      "     \"Labels\": {\n",
      "          \"app\": \"exported-dynamic-webserver\"\n",
      "     },\n",
      "     \"CreateCgroup\": true,\n",
      "     \"CgroupParent\": \"machine.slice\",\n",
      "     \"CgroupPath\": \"machine.slice/machine-libpod_pod_2d6e8a4357379520927ce14c13515584fbd82657e6bac79f378bfd42c7f1b2fe.slice\",\n",
      "     \"CreateInfra\": true,\n",
      "     \"InfraContainerID\": \"d5f0ec7fcb8eca6cbc37c6f4ccab861f99043b44200159d070841918fc7383c0\",\n",
      "     \"InfraConfig\": {\n",
      "          \"PortBindings\": {\n",
      "               \"80/tcp\": [\n",
      "     {\n",
      "          \"HostIp\": \"\",\n",
      "          \"HostPort\": \"8080\"\n",
      "     }\n",
      "]\n",
      "          },\n",
      "          \"HostNetwork\": false,\n",
      "          \"StaticIP\": \"\",\n",
      "          \"StaticMAC\": \"\",\n",
      "          \"NoManageResolvConf\": false,\n",
      "          \"DNSServer\": null,\n",
      "          \"DNSSearch\": null,\n",
      "          \"DNSOption\": null,\n",
      "          \"NoManageHosts\": false,\n",
      "          \"HostAdd\": null,\n",
      "          \"Networks\": [\n",
      "               \"podman\"\n",
      "          ],\n",
      "          \"NetworkOptions\": null,\n",
      "          \"pid_ns\": \"private\",\n",
      "          \"userns\": \"host\"\n",
      "     },\n",
      "     \"SharedNamespaces\": [\n",
      "          \"net\",\n",
      "          \"uts\",\n",
      "          \"ipc\"\n",
      "     ],\n",
      "     \"NumContainers\": 4,\n",
      "     \"Containers\": [\n",
      "          {\n",
      "               \"Id\": \"1b6d6a4c6d578899e5a434fd9f8f134078f15b86ad8e734f3964b384f768ad0a\",\n",
      "               \"Name\": \"exported-dynamic-webserver-apache-httpd\",\n",
      "               \"State\": \"running\"\n",
      "          },\n",
      "          {\n",
      "               \"Id\": \"7f69914589be293a008e2640fabd33c037654c028b5dde6ee9e83a8471b4070a\",\n",
      "               \"Name\": \"exported-dynamic-webserver-apache-httpd-init\",\n",
      "               \"State\": \"exited\"\n",
      "          },\n",
      "          {\n",
      "               \"Id\": \"8d802f3f6611d9fab1b17fcc85bf3748415d211e7676bce9e1fb5db10078de66\",\n",
      "               \"Name\": \"exported-dynamic-webserver-apache-httpd-index-updater\",\n",
      "               \"State\": \"running\"\n",
      "          },\n",
      "          {\n",
      "               \"Id\": \"d5f0ec7fcb8eca6cbc37c6f4ccab861f99043b44200159d070841918fc7383c0\",\n",
      "               \"Name\": \"2d6e8a435737-infra\",\n",
      "               \"State\": \"running\"\n",
      "          }\n",
      "     ]\n",
      "}\n"
     ]
    }
   ],
   "source": [
    "# Inspect the pod\n",
    "podman pod inspect exported-dynamic-webserver"
   ]
  },
  {
   "cell_type": "code",
   "execution_count": 3,
   "metadata": {
    "vscode": {
     "languageId": "shellscript"
    }
   },
   "outputs": [
    {
     "name": "stdout",
     "output_type": "stream",
     "text": [
      "Static Website Init\n",
      "Index Updated @Tue Jul 26 16:09:27 UTC 2022\n",
      "Index Updated @Tue Jul 26 16:09:37 UTC 2022\n"
     ]
    }
   ],
   "source": [
    "# Even the persistent volume claim was handled properly as a volume mount for all containers\n",
    "curl localhost:8080"
   ]
  },
  {
   "cell_type": "code",
   "execution_count": null,
   "metadata": {},
   "outputs": [],
   "source": []
  }
 ],
 "metadata": {
  "kernelspec": {
   "display_name": "Bash",
   "language": "bash",
   "name": "bash"
  },
  "language_info": {
   "codemirror_mode": "shell",
   "file_extension": ".sh",
   "mimetype": "text/x-sh",
   "name": "bash"
  }
 },
 "nbformat": 4,
 "nbformat_minor": 2
}
