{
 "cells": [
  {
   "cell_type": "markdown",
   "metadata": {},
   "source": [
    "# Docker Compatibility: Docker and Docker Compose\n",
    "\n",
    "While most podman users will just perform a simple `alias docker=podman` in their terminals, there are more compatibility layers between them.\n",
    "\n",
    "For example:\n",
    "\n",
    "- Podman can expose a socket for the docker CLI, making it possible to use it to run containers with a Podman engine\n",
    "- Podman can run docker-compose files with `podman-compose`, which is optional\n",
    "\n",
    "Lets check both!\n",
    "\n",
    "Make sure you installed the optional helper (check Chapter 0, Install Podman) as well as the docker CLI."
   ]
  },
  {
   "cell_type": "code",
   "execution_count": 3,
   "metadata": {
    "vscode": {
     "languageId": "shellscript"
    }
   },
   "outputs": [
    {
     "name": "stdout",
     "output_type": "stream",
     "text": [
      "/opt/homebrew/bin/docker\n",
      "\u001b[?2004h"
     ]
    },
    {
     "ename": "",
     "evalue": "1",
     "output_type": "error",
     "traceback": []
    }
   ],
   "source": [
    "which docker"
   ]
  },
  {
   "cell_type": "code",
   "execution_count": 4,
   "metadata": {
    "vscode": {
     "languageId": "shellscript"
    }
   },
   "outputs": [
    {
     "name": "stdout",
     "output_type": "stream",
     "text": [
      "Docker version 20.10.17, build 100c70180f\n",
      "\u001b[?2004h"
     ]
    },
    {
     "ename": "",
     "evalue": "1",
     "output_type": "error",
     "traceback": []
    }
   ],
   "source": [
    "docker --version"
   ]
  },
  {
   "cell_type": "code",
   "execution_count": 2,
   "metadata": {
    "vscode": {
     "languageId": "shellscript"
    }
   },
   "outputs": [
    {
     "name": "stdout",
     "output_type": "stream",
     "text": [
      "CONTAINER ID   IMAGE                                 COMMAND   CREATED             STATUS             PORTS                                             NAMES\n",
      "5013a0794fd7   gcr.io/k8s-minikube/kicbase:v0.0.32   \"\"        About an hour ago   Up About an hour   22/tcp, 2376/tcp, 5000/tcp, 8443/tcp, 32443/tcp   minikube\n",
      "\u001b[?2004h"
     ]
    },
    {
     "ename": "",
     "evalue": "1",
     "output_type": "error",
     "traceback": []
    }
   ],
   "source": [
    "docker ps"
   ]
  },
  {
   "cell_type": "code",
   "execution_count": 5,
   "metadata": {
    "vscode": {
     "languageId": "shellscript"
    }
   },
   "outputs": [
    {
     "name": "stdout",
     "output_type": "stream",
     "text": [
      "podman version 4.1.1\n",
      "\u001b[?2004h"
     ]
    },
    {
     "ename": "",
     "evalue": "1",
     "output_type": "error",
     "traceback": []
    }
   ],
   "source": [
    "podman --version"
   ]
  },
  {
   "cell_type": "code",
   "execution_count": 6,
   "metadata": {
    "vscode": {
     "languageId": "shellscript"
    }
   },
   "outputs": [
    {
     "name": "stdout",
     "output_type": "stream",
     "text": [
      "CONTAINER ID  IMAGE                                COMMAND     CREATED            STATUS                PORTS                                                                                                                       NAMES\n",
      "5013a0794fd7  gcr.io/k8s-minikube/kicbase:v0.0.32              About an hour ago  Up About an hour ago  0.0.0.0:38965->22/tcp, 0.0.0.0:42903->2376/tcp, 0.0.0.0:32787->5000/tcp, 0.0.0.0:33043->8443/tcp, 0.0.0.0:42707->32443/tcp  minikube\n",
      "\u001b[?2004h"
     ]
    },
    {
     "ename": "",
     "evalue": "1",
     "output_type": "error",
     "traceback": []
    }
   ],
   "source": [
    "podman ps"
   ]
  },
  {
   "cell_type": "markdown",
   "metadata": {},
   "source": [
    "## Docker Compose\n",
    "\n",
    "Podman can compose images the same way docker can.\n",
    "\n",
    "After installing the optional package (`docker-compose` and `podman-compose`):"
   ]
  },
  {
   "cell_type": "code",
   "execution_count": 2,
   "metadata": {
    "vscode": {
     "languageId": "shellscript"
    }
   },
   "outputs": [
    {
     "name": "stdout",
     "output_type": "stream",
     "text": [
      "\u001b[1A\u001b[1B\u001b[0G\u001b[?25l[+] Running 2/0\n",
      "\u001b[34m ⠿ Container compose-wordpress-1  Runni...                                 0.0s\n",
      "\u001b[0m\u001b[34m ⠿ Container compose-db-1         Running                                  0.0s\n",
      "\u001b[0m\u001b[?25h\u001b[?2004h"
     ]
    },
    {
     "ename": "",
     "evalue": "1",
     "output_type": "error",
     "traceback": []
    }
   ],
   "source": [
    "docker-compose -f compose/wordpress-compose.yaml up -d"
   ]
  },
  {
   "cell_type": "code",
   "execution_count": 5,
   "metadata": {
    "vscode": {
     "languageId": "shellscript"
    }
   },
   "outputs": [
    {
     "name": "stdout",
     "output_type": "stream",
     "text": [
      "\u001b[?2004h"
     ]
    },
    {
     "ename": "",
     "evalue": "1",
     "output_type": "error",
     "traceback": []
    }
   ],
   "source": [
    "docker-compose -f compose/wordpress-compose.yaml down"
   ]
  },
  {
   "cell_type": "code",
   "execution_count": 9,
   "metadata": {
    "vscode": {
     "languageId": "shellscript"
    }
   },
   "outputs": [
    {
     "name": "stdout",
     "output_type": "stream",
     "text": [
      "['podman', '--version', '']\n",
      "using podman version: 4.1.1\n",
      "** excluding:  set()\n",
      "podman volume inspect compose_db_data || podman volume create compose_db_data\n",
      "['podman', 'volume', 'inspect', 'compose_db_data']\n",
      "['podman', 'network', 'exists', 'compose_default']\n",
      "podman run --name=compose_db_1 -d --label io.podman.compose.config-hash=123 --label io.podman.compose.project=compose --label io.podman.compose.version=0.0.1 --label com.docker.compose.project=compose --label com.docker.compose.project.working_dir=/Users/guillem.riera/Git/code.intive.com/lnd/podman/compose --label com.docker.compose.project.config_files=compose/wordpress-compose.yaml --label com.docker.compose.container-number=1 --label com.docker.compose.service=db -e MYSQL_ROOT_PASSWORD=somewordpress -e MYSQL_DATABASE=wordpress -e MYSQL_USER=wordpress -e MYSQL_PASSWORD=wordpress -v compose_db_data:/var/lib/mysql --net compose_default --network-alias db --expose 3306 --expose 33060 --restart always mariadb:10.6.4-focal --default-authentication-plugin=mysql_native_password\n",
      "84573610d178bed4b3d59971874ba560b75f9a0b713e3e8d13492ccc5b52212f\n",
      "exit code: 0\n",
      "['podman', 'network', 'exists', 'compose_default']\n",
      "podman run --name=compose_wordpress_1 -d --label io.podman.compose.config-hash=123 --label io.podman.compose.project=compose --label io.podman.compose.version=0.0.1 --label com.docker.compose.project=compose --label com.docker.compose.project.working_dir=/Users/guillem.riera/Git/code.intive.com/lnd/podman/compose --label com.docker.compose.project.config_files=compose/wordpress-compose.yaml --label com.docker.compose.container-number=1 --label com.docker.compose.service=wordpress -e WORDPRESS_DB_HOST=db -e WORDPRESS_DB_USER=wordpress -e WORDPRESS_DB_PASSWORD=wordpress -e WORDPRESS_DB_NAME=wordpress --net compose_default --network-alias wordpress -p 80:80 --restart always wordpress:latest\n",
      "06464cd26cabba2f250ecd18c39ad6a04418ed2146a9b1890591d169e6600e9c\n",
      "exit code: 0\n",
      "\u001b[?2004h"
     ]
    },
    {
     "ename": "",
     "evalue": "1",
     "output_type": "error",
     "traceback": []
    }
   ],
   "source": [
    "podman-compose -f compose/wordpress-compose.yaml up -d"
   ]
  },
  {
   "cell_type": "code",
   "execution_count": 10,
   "metadata": {
    "vscode": {
     "languageId": "shellscript"
    }
   },
   "outputs": [
    {
     "name": "stdout",
     "output_type": "stream",
     "text": [
      "['podman', '--version', '']\n",
      "using podman version: 4.1.1\n",
      "** excluding:  set()\n",
      "podman stop -t 10 compose_wordpress_1\n",
      "compose_wordpress_1\n",
      "exit code: 0\n",
      "podman stop -t 10 compose_db_1\n",
      "compose_db_1\n",
      "exit code: 0\n",
      "podman rm compose_wordpress_1\n",
      "06464cd26cabba2f250ecd18c39ad6a04418ed2146a9b1890591d169e6600e9c\n",
      "exit code: 0\n",
      "podman rm compose_db_1\n",
      "84573610d178bed4b3d59971874ba560b75f9a0b713e3e8d13492ccc5b52212f\n",
      "exit code: 0\n",
      "\u001b[?2004h"
     ]
    },
    {
     "ename": "",
     "evalue": "1",
     "output_type": "error",
     "traceback": []
    }
   ],
   "source": [
    "podman-compose -f compose/wordpress-compose.yaml down"
   ]
  }
 ],
 "metadata": {
  "kernelspec": {
   "display_name": "Bash",
   "language": "bash",
   "name": "bash"
  },
  "language_info": {
   "codemirror_mode": "shell",
   "file_extension": ".sh",
   "mimetype": "text/x-sh",
   "name": "bash"
  },
  "orig_nbformat": 4
 },
 "nbformat": 4,
 "nbformat_minor": 2
}
