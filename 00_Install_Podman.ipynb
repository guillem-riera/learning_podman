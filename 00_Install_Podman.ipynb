{
 "cells": [
  {
   "cell_type": "markdown",
   "metadata": {
    "pycharm": {
     "name": "#%% md\n"
    }
   },
   "source": [
    "# Install Podman"
   ]
  },
  {
   "cell_type": "code",
   "execution_count": 1,
   "metadata": {
    "pycharm": {
     "name": "#%%\n"
    },
    "vscode": {
     "languageId": "shellscript"
    }
   },
   "outputs": [
    {
     "name": "stdout",
     "output_type": "stream",
     "text": [
      "Running `brew update --auto-update`...\n",
      "\u001b[34m==>\u001b[0m \u001b[1mAuto-updated Homebrew!\u001b[0m\n",
      "Updated 3 taps (guillem-riera/qemu, homebrew/core and homebrew/cask).\n",
      "\n",
      "You have \u001b[1m1\u001b[0m outdated formula installed.\n",
      "You can upgrade it with \u001b[1mbrew upgrade\u001b[0m\n",
      "or list it with \u001b[1mbrew outdated\u001b[0m.\n",
      "\n",
      "\u001b[33mWarning:\u001b[0m podman 4.1.1 is already installed and up-to-date.\n",
      "To reinstall 4.1.1, run:\n",
      "  brew reinstall podman\n",
      "\u001b[?2004h"
     ]
    },
    {
     "ename": "",
     "evalue": "1",
     "output_type": "error",
     "traceback": []
    }
   ],
   "source": [
    "# On macOS\n",
    "brew install podman\n"
   ]
  },
  {
   "cell_type": "markdown",
   "metadata": {},
   "source": [
    "## Optional: Podman Compose\n",
    "\n",
    "Podman compose is the equivalent to docker compose."
   ]
  },
  {
   "cell_type": "code",
   "execution_count": 1,
   "metadata": {
    "vscode": {
     "languageId": "shellscript"
    }
   },
   "outputs": [
    {
     "name": "stdout",
     "output_type": "stream",
     "text": [
      "Running `brew update --auto-update`...\n",
      "\u001b[34m==>\u001b[0m \u001b[1mAuto-updated Homebrew!\u001b[0m\n",
      "Updated 7 taps (guillem-riera/qemu, homebrew/cask-versions, homebrew/core, homebrew/cask, homebrew/cask-drivers, minio/stable and aws/tap).\n",
      "\u001b[34m==>\u001b[0m \u001b[1mNew Casks\u001b[0m\n",
      "ccprofiler\n",
      "\n",
      "You have \u001b[1m3\u001b[0m outdated formulae installed.\n",
      "You can upgrade them with \u001b[1mbrew upgrade\u001b[0m\n",
      "or list them with \u001b[1mbrew outdated\u001b[0m.\n",
      "\n",
      "\u001b[33mWarning:\u001b[0m podman-compose 1.0.3 is already installed and up-to-date.\n",
      "To reinstall 1.0.3, run:\n",
      "  brew reinstall podman-compose\n",
      "\u001b[?2004h"
     ]
    },
    {
     "ename": "",
     "evalue": "1",
     "output_type": "error",
     "traceback": []
    }
   ],
   "source": [
    "brew install podman-compose"
   ]
  },
  {
   "cell_type": "markdown",
   "metadata": {},
   "source": [
    "## Optional: Docker Socket\n",
    "\n",
    "It is possible that podman creates a socket for Docker so that there is no need for the DOCKER_HOST environment variable.\n",
    "This is performed by the bundled `podman-mac-helper` tool.\n",
    "\n",
    "**Note** Don't run the command from this notebook unless you have setup passwordless sudo."
   ]
  },
  {
   "cell_type": "code",
   "execution_count": null,
   "metadata": {
    "vscode": {
     "languageId": "shellscript"
    }
   },
   "outputs": [],
   "source": [
    "sudo podman-mac-helper install"
   ]
  }
 ],
 "metadata": {
  "kernelspec": {
   "display_name": "Bash",
   "language": "bash",
   "name": "bash"
  },
  "language_info": {
   "codemirror_mode": "shell",
   "file_extension": ".sh",
   "mimetype": "text/x-sh",
   "name": "bash"
  },
  "vscode": {
   "interpreter": {
    "hash": "d362ccb19790b90e231d9c3f509ca0aa7ec55cb4e39b4ac910e8a3624faecb5a"
   }
  }
 },
 "nbformat": 4,
 "nbformat_minor": 1
}
