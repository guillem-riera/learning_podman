{
 "cells": [
  {
   "cell_type": "markdown",
   "metadata": {
    "pycharm": {
     "name": "#%% md\n"
    }
   },
   "source": [
    "# Install Podman"
   ]
  },
  {
   "cell_type": "code",
   "execution_count": 1,
   "metadata": {
    "pycharm": {
     "name": "#%%\n"
    },
    "vscode": {
     "languageId": "shellscript"
    }
   },
   "outputs": [
    {
     "name": "stdout",
     "output_type": "stream",
     "text": [
      "Running `brew update --auto-update`...\n",
      "\u001b[34m==>\u001b[0m \u001b[1mAuto-updated Homebrew!\u001b[0m\n",
      "Updated 3 taps (guillem-riera/qemu, homebrew/core and homebrew/cask).\n",
      "\n",
      "You have \u001b[1m1\u001b[0m outdated formula installed.\n",
      "You can upgrade it with \u001b[1mbrew upgrade\u001b[0m\n",
      "or list it with \u001b[1mbrew outdated\u001b[0m.\n",
      "\n",
      "\u001b[33mWarning:\u001b[0m podman 4.1.1 is already installed and up-to-date.\n",
      "To reinstall 4.1.1, run:\n",
      "  brew reinstall podman\n",
      "\u001b[?2004h"
     ]
    },
    {
     "ename": "",
     "evalue": "1",
     "output_type": "error",
     "traceback": []
    }
   ],
   "source": [
    "# On macOS\n",
    "brew install podman\n"
   ]
  }
 ],
 "metadata": {
  "kernelspec": {
   "display_name": "Bash",
   "language": "bash",
   "name": "bash"
  },
  "language_info": {
   "codemirror_mode": "shell",
   "file_extension": ".sh",
   "mimetype": "text/x-sh",
   "name": "bash"
  },
  "vscode": {
   "interpreter": {
    "hash": "d362ccb19790b90e231d9c3f509ca0aa7ec55cb4e39b4ac910e8a3624faecb5a"
   }
  }
 },
 "nbformat": 4,
 "nbformat_minor": 1
}
